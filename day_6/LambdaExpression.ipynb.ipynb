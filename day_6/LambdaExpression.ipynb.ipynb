{
 "cells": [
  {
   "cell_type": "code",
   "execution_count": 1,
   "metadata": {},
   "outputs": [],
   "source": [
    "# # LAMBDA EXPRESSION\n"
   ]
  },
  {
   "cell_type": "code",
   "execution_count": 2,
   "metadata": {},
   "outputs": [
    {
     "name": "stdout",
     "output_type": "stream",
     "text": [
      "18\n",
      "125\n",
      "4.0\n",
      "14\n",
      "10\n"
     ]
    }
   ],
   "source": [
    "# def double(x):\n",
    "#     return x*2\n",
    "\n",
    "\n",
    "def appl(fx, value):\n",
    "    return 6 + fx(value)\n",
    "\n",
    "\n",
    "double = lambda x: x * 2\n",
    "cube = lambda x: x * x * x\n",
    "avg = lambda x, y, z: (x + y + z) / 3\n",
    "\n",
    "\n",
    "print(double(9))\n",
    "print(cube(5))\n",
    "print(avg(3, 4, 5))\n",
    "print(appl(cube, 2))\n",
    "print(appl(lambda x: x * x, 2))\n"
   ]
  },
  {
   "cell_type": "code",
   "execution_count": null,
   "metadata": {},
   "outputs": [],
   "source": []
  }
 ],
 "metadata": {
  "kernelspec": {
   "display_name": "Python 3",
   "language": "python",
   "name": "python3"
  },
  "language_info": {
   "codemirror_mode": {
    "name": "ipython",
    "version": 3
   },
   "file_extension": ".py",
   "mimetype": "text/x-python",
   "name": "python",
   "nbconvert_exporter": "python",
   "pygments_lexer": "ipython3",
   "version": "3.12.4"
  }
 },
 "nbformat": 4,
 "nbformat_minor": 2
}
