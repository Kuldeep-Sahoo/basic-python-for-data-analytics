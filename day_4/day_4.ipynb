{
 "cells": [
  {
   "cell_type": "code",
   "execution_count": 1,
   "id": "08650cf1-d448-4038-b961-12c3a7b05f70",
   "metadata": {
    "scrolled": true
   },
   "outputs": [
    {
     "name": "stdout",
     "output_type": "stream",
     "text": [
      "Name :  Bikash\n",
      "Name :  Shreekant\n",
      "Name :  Bikash\n"
     ]
    }
   ],
   "source": [
    "def friend(f):\n",
    "    print(\"Name : \", f)\n",
    "\n",
    "\n",
    "friend(\"Bikash\")\n",
    "friend(\"Shreekant\")\n",
    "friend(\"Bikash\")\n"
   ]
  },
  {
   "cell_type": "code",
   "execution_count": 2,
   "id": "ea459fed-a61d-44d0-a880-c7cbad522d74",
   "metadata": {},
   "outputs": [
    {
     "name": "stdout",
     "output_type": "stream",
     "text": [
      "Sum of 1 , 3 and 5 is 9\n",
      "Multi of 1 , 3 and 5  is 15\n",
      "\n",
      "Sum of 4 , 5 and 5 is 14\n",
      "Multi of 4 , 5 and 5  is 100\n",
      "\n"
     ]
    }
   ],
   "source": [
    "def summation(a, b, c):\n",
    "    print(f\"Sum of {a} , {b} and {c} is {a+b+c}\")\n",
    "    print(f\"Multi of {a} , {b} and {c}  is {a*b*c}\\n\")\n",
    "\n",
    "\n",
    "summation(1, 3, 5)\n",
    "summation(4, 5, 5)\n"
   ]
  },
  {
   "cell_type": "code",
   "execution_count": 3,
   "id": "c7dd0fd1-265d-4349-aafa-92ba2580d561",
   "metadata": {},
   "outputs": [
    {
     "name": "stdout",
     "output_type": "stream",
     "text": [
      "12 is even\n",
      "2 is even\n",
      "1 is odd\n"
     ]
    }
   ],
   "source": [
    "def check_e_o(num):\n",
    "    if num % 2 == 0:\n",
    "        return \"even\"\n",
    "    else:\n",
    "        return \"odd\"\n",
    "\n",
    "\n",
    "print(f\"{12} is {check_e_o(12)}\")\n",
    "print(f\"{2} is {check_e_o(2)}\")\n",
    "print(f\"{1} is {check_e_o(1)}\")\n"
   ]
  },
  {
   "cell_type": "code",
   "execution_count": 2,
   "id": "c300bc31-cd08-48b5-8135-3631c37f3f4f",
   "metadata": {},
   "outputs": [
    {
     "data": {
      "text/plain": [
       "'class Start'"
      ]
     },
     "execution_count": 2,
     "metadata": {},
     "output_type": "execute_result"
    }
   ],
   "source": [
    "def classTiming(t):\n",
    "    if t <= 8:\n",
    "        return \"class Start\"\n",
    "    elif t <= 12:\n",
    "        return \"class running\"\n",
    "    else:\n",
    "        return \"class end\"\n",
    "\n",
    "\n",
    "classTiming(3)\n"
   ]
  },
  {
   "cell_type": "code",
   "execution_count": 6,
   "id": "df612562-7e2c-475d-8356-e4f85131adf3",
   "metadata": {},
   "outputs": [
    {
     "name": "stdout",
     "output_type": "stream",
     "text": [
      "jnj\n",
      "knkvnk\n"
     ]
    }
   ],
   "source": [
    "def h():\n",
    "    def b():\n",
    "        print(\"knkvnk\")\n",
    "\n",
    "    print(\"jnj\")\n",
    "    b()\n",
    "\n",
    "\n",
    "h()\n"
   ]
  },
  {
   "cell_type": "code",
   "execution_count": 2,
   "id": "25b9d967-594e-4ea1-8230-36470bd9246c",
   "metadata": {},
   "outputs": [
    {
     "name": "stdout",
     "output_type": "stream",
     "text": [
      "700\n",
      "90\n"
     ]
    }
   ],
   "source": [
    "x=90\n",
    "def f():\n",
    "    x = 700\n",
    "    print(x)\n",
    "# x is local to function f()\n",
    "f()\n",
    "print(x)\n"
   ]
  },
  {
   "cell_type": "code",
   "execution_count": 3,
   "id": "4e45e4e8-dfb0-4a36-9434-c5963be2e5a1",
   "metadata": {},
   "outputs": [
    {
     "name": "stdout",
     "output_type": "stream",
     "text": [
      "8989\n"
     ]
    }
   ],
   "source": [
    "def f():\n",
    "    global x\n",
    "    x = 8989\n",
    "\n",
    "\n",
    "f()\n",
    "print(x)\n"
   ]
  },
  {
   "cell_type": "code",
   "execution_count": 4,
   "id": "4869982b-0bfc-467f-96a4-005e75a72a6d",
   "metadata": {},
   "outputs": [],
   "source": [
    "def myname(name):\n",
    "    print(name)\n"
   ]
  },
  {
   "cell_type": "code",
   "execution_count": 5,
   "id": "9d55dbcd-fe53-4f36-bd05-65464dd1ddc5",
   "metadata": {},
   "outputs": [
    {
     "name": "stdout",
     "output_type": "stream",
     "text": [
      "This is a module\n",
      "Kuldeep\n"
     ]
    }
   ],
   "source": [
    "import mymodule\n",
    "\n",
    "\n",
    "mymodule.my_name(\"Kuldeep\")\n"
   ]
  },
  {
   "cell_type": "code",
   "execution_count": 2,
   "id": "45914c75-e782-4450-9723-543ce3a77fd5",
   "metadata": {},
   "outputs": [
    {
     "name": "stdout",
     "output_type": "stream",
     "text": [
      "pip 23.3.1 from C:\\ProgramData\\anaconda3\\Lib\\site-packages\\pip (python 3.11)\n",
      "\n"
     ]
    }
   ],
   "source": [
    "!pip --version\n"
   ]
  },
  {
   "cell_type": "code",
   "execution_count": 3,
   "id": "94a7f140-fecb-4364-ba1e-e47a0194a7a5",
   "metadata": {},
   "outputs": [
    {
     "name": "stdout",
     "output_type": "stream",
     "text": [
      "Package                           Version\n",
      "--------------------------------- ------------\n",
      "aiobotocore                       2.7.0\n",
      "aiohttp                           3.9.3\n",
      "aioitertools                      0.7.1\n",
      "aiosignal                         1.2.0\n",
      "alabaster                         0.7.12\n",
      "altair                            5.0.1\n",
      "anaconda-anon-usage               0.4.3\n",
      "anaconda-catalogs                 0.2.0\n",
      "anaconda-client                   1.12.3\n",
      "anaconda-cloud-auth               0.1.4\n",
      "anaconda-navigator                2.5.2\n",
      "anaconda-project                  0.11.1\n",
      "anyio                             4.2.0\n",
      "appdirs                           1.4.4\n",
      "archspec                          0.2.1\n",
      "argon2-cffi                       21.3.0\n",
      "argon2-cffi-bindings              21.2.0\n",
      "arrow                             1.2.3\n",
      "astroid                           2.14.2\n",
      "astropy                           5.3.4\n",
      "asttokens                         2.0.5\n",
      "async-lru                         2.0.4\n",
      "atomicwrites                      1.4.0\n",
      "attrs                             23.1.0\n",
      "Automat                           20.2.0\n",
      "autopep8                          1.6.0\n",
      "Babel                             2.11.0\n",
      "backports.functools-lru-cache     1.6.4\n",
      "backports.tempfile                1.0\n",
      "backports.weakref                 1.0.post1\n",
      "bcrypt                            3.2.0\n",
      "beautifulsoup4                    4.12.2\n",
      "binaryornot                       0.4.4\n",
      "black                             23.11.0\n",
      "bleach                            4.1.0\n",
      "blinker                           1.6.2\n",
      "bokeh                             3.3.4\n",
      "boltons                           23.0.0\n",
      "botocore                          1.31.64\n",
      "Bottleneck                        1.3.7\n",
      "Brotli                            1.0.9\n",
      "cachetools                        4.2.2\n",
      "certifi                           2024.2.2\n",
      "cffi                              1.16.0\n",
      "chardet                           4.0.0\n",
      "charset-normalizer                2.0.4\n",
      "click                             8.1.7\n",
      "cloudpickle                       2.2.1\n",
      "clyent                            1.2.2\n",
      "colorama                          0.4.6\n",
      "colorcet                          3.0.1\n",
      "comm                              0.1.2\n",
      "conda                             24.1.2\n",
      "conda-build                       24.1.2\n",
      "conda-content-trust               0.2.0\n",
      "conda_index                       0.4.0\n",
      "conda-libmamba-solver             24.1.0\n",
      "conda-pack                        0.6.0\n",
      "conda-package-handling            2.2.0\n",
      "conda_package_streaming           0.9.0\n",
      "conda-repo-cli                    1.0.75\n",
      "conda-token                       0.4.0\n",
      "conda-verify                      3.4.2\n",
      "constantly                        23.10.4\n",
      "contourpy                         1.2.0\n",
      "cookiecutter                      2.5.0\n",
      "cryptography                      42.0.2\n",
      "cssselect                         1.2.0\n",
      "cycler                            0.11.0\n",
      "cytoolz                           0.12.2\n",
      "dask                              2023.11.0\n",
      "datashader                        0.16.0\n",
      "debugpy                           1.6.7\n",
      "decorator                         5.1.1\n",
      "defusedxml                        0.7.1\n",
      "diff-match-patch                  20200713\n",
      "dill                              0.3.7\n",
      "distributed                       2023.11.0\n",
      "distro                            1.8.0\n",
      "docstring-to-markdown             0.11\n",
      "docutils                          0.18.1\n",
      "entrypoints                       0.4\n",
      "et-xmlfile                        1.1.0\n",
      "executing                         0.8.3\n",
      "fastjsonschema                    2.16.2\n",
      "filelock                          3.13.1\n",
      "flake8                            6.0.0\n",
      "Flask                             2.2.5\n",
      "fonttools                         4.25.0\n",
      "frozenlist                        1.4.0\n",
      "fsspec                            2023.10.0\n",
      "future                            0.18.3\n",
      "gensim                            4.3.0\n",
      "gitdb                             4.0.7\n",
      "GitPython                         3.1.37\n",
      "gmpy2                             2.1.2\n",
      "greenlet                          3.0.1\n",
      "h5py                              3.9.0\n",
      "HeapDict                          1.0.1\n",
      "holoviews                         1.18.3\n",
      "hvplot                            0.9.2\n",
      "hyperlink                         21.0.0\n",
      "idna                              3.4\n",
      "imagecodecs                       2023.1.23\n",
      "imageio                           2.33.1\n",
      "imagesize                         1.4.1\n",
      "imbalanced-learn                  0.11.0\n",
      "importlib-metadata                7.0.1\n",
      "incremental                       22.10.0\n",
      "inflection                        0.5.1\n",
      "iniconfig                         1.1.1\n",
      "intake                            0.6.8\n",
      "intervaltree                      3.1.0\n",
      "ipykernel                         6.28.0\n",
      "ipython                           8.20.0\n",
      "ipython-genutils                  0.2.0\n",
      "ipywidgets                        7.6.5\n",
      "isort                             5.9.3\n",
      "itemadapter                       0.3.0\n",
      "itemloaders                       1.1.0\n",
      "itsdangerous                      2.0.1\n",
      "jaraco.classes                    3.2.1\n",
      "jedi                              0.18.1\n",
      "jellyfish                         1.0.1\n",
      "Jinja2                            3.1.3\n",
      "jmespath                          1.0.1\n",
      "joblib                            1.2.0\n",
      "json5                             0.9.6\n",
      "jsonpatch                         1.32\n",
      "jsonpointer                       2.1\n",
      "jsonschema                        4.19.2\n",
      "jsonschema-specifications         2023.7.1\n",
      "jupyter                           1.0.0\n",
      "jupyter_client                    8.6.0\n",
      "jupyter-console                   6.6.3\n",
      "jupyter_core                      5.5.0\n",
      "jupyter-events                    0.8.0\n",
      "jupyter-lsp                       2.2.0\n",
      "jupyter_server                    2.10.0\n",
      "jupyter_server_terminals          0.4.4\n",
      "jupyterlab                        4.0.11\n",
      "jupyterlab-pygments               0.1.2\n",
      "jupyterlab_server                 2.25.1\n",
      "jupyterlab-widgets                3.0.9\n",
      "keyring                           23.13.1\n",
      "kiwisolver                        1.4.4\n",
      "lazy_loader                       0.3\n",
      "lazy-object-proxy                 1.6.0\n",
      "lckr_jupyterlab_variableinspector 3.1.0\n",
      "libarchive-c                      2.9\n",
      "libmambapy                        1.5.6\n",
      "linkify-it-py                     2.0.0\n",
      "llvmlite                          0.42.0\n",
      "lmdb                              1.4.1\n",
      "locket                            1.0.0\n",
      "lxml                              4.9.3\n",
      "lz4                               4.3.2\n",
      "Markdown                          3.4.1\n",
      "markdown-it-py                    2.2.0\n",
      "MarkupSafe                        2.1.3\n",
      "matplotlib                        3.8.0\n",
      "matplotlib-inline                 0.1.6\n",
      "mccabe                            0.7.0\n",
      "mdit-py-plugins                   0.3.0\n",
      "mdurl                             0.1.0\n",
      "menuinst                          2.0.2\n",
      "mistune                           2.0.4\n",
      "mkl-fft                           1.3.8\n",
      "mkl-random                        1.2.4\n",
      "mkl-service                       2.4.0\n",
      "more-itertools                    10.1.0\n",
      "mpmath                            1.3.0\n",
      "msgpack                           1.0.3\n",
      "multidict                         6.0.4\n",
      "multipledispatch                  0.6.0\n",
      "munkres                           1.1.4\n",
      "mypy                              1.8.0\n",
      "mypy-extensions                   1.0.0\n",
      "navigator-updater                 0.4.0\n",
      "nbclient                          0.8.0\n",
      "nbconvert                         7.10.0\n",
      "nbformat                          5.9.2\n",
      "nest-asyncio                      1.6.0\n",
      "networkx                          3.1\n",
      "nltk                              3.8.1\n",
      "notebook                          7.0.8\n",
      "notebook_shim                     0.2.3\n",
      "numba                             0.59.0\n",
      "numexpr                           2.8.7\n",
      "numpy                             1.26.4\n",
      "numpydoc                          1.5.0\n",
      "openpyxl                          3.0.10\n",
      "overrides                         7.4.0\n",
      "packaging                         23.1\n",
      "pandas                            2.1.4\n",
      "pandocfilters                     1.5.0\n",
      "panel                             1.3.8\n",
      "param                             2.0.2\n",
      "paramiko                          2.8.1\n",
      "parsel                            1.8.1\n",
      "parso                             0.8.3\n",
      "partd                             1.4.1\n",
      "pathlib                           1.0.1\n",
      "pathspec                          0.10.3\n",
      "patsy                             0.5.3\n",
      "pexpect                           4.8.0\n",
      "pickleshare                       0.7.5\n",
      "pillow                            10.2.0\n",
      "pip                               23.3.1\n",
      "pkce                              1.0.3\n",
      "pkginfo                           1.9.6\n",
      "platformdirs                      3.10.0\n",
      "plotly                            5.9.0\n",
      "pluggy                            1.0.0\n",
      "ply                               3.11\n",
      "prometheus-client                 0.14.1\n",
      "prompt-toolkit                    3.0.43\n",
      "Protego                           0.1.16\n",
      "protobuf                          3.20.3\n",
      "psutil                            5.9.0\n",
      "ptyprocess                        0.7.0\n",
      "pure-eval                         0.2.2\n",
      "py-cpuinfo                        9.0.0\n",
      "pyarrow                           14.0.2\n",
      "pyasn1                            0.4.8\n",
      "pyasn1-modules                    0.2.8\n",
      "pycodestyle                       2.10.0\n",
      "pycosat                           0.6.6\n",
      "pycparser                         2.21\n",
      "pyct                              0.5.0\n",
      "pycurl                            7.45.2\n",
      "pydantic                          1.10.12\n",
      "pydeck                            0.8.0\n",
      "PyDispatcher                      2.0.5\n",
      "pydocstyle                        6.3.0\n",
      "pyerfa                            2.0.0\n",
      "pyflakes                          3.0.1\n",
      "Pygments                          2.15.1\n",
      "PyJWT                             2.4.0\n",
      "pylint                            2.16.2\n",
      "pylint-venv                       2.3.0\n",
      "pyls-spyder                       0.4.0\n",
      "PyNaCl                            1.5.0\n",
      "pyodbc                            5.0.1\n",
      "pyOpenSSL                         24.0.0\n",
      "pyparsing                         3.0.9\n",
      "PyQt5                             5.15.10\n",
      "PyQt5-sip                         12.13.0\n",
      "PyQtWebEngine                     5.15.6\n",
      "PySocks                           1.7.1\n",
      "pytest                            7.4.0\n",
      "python-dateutil                   2.8.2\n",
      "python-dotenv                     0.21.0\n",
      "python-json-logger                2.0.7\n",
      "python-lsp-black                  1.2.1\n",
      "python-lsp-jsonrpc                1.0.0\n",
      "python-lsp-server                 1.7.2\n",
      "python-slugify                    5.0.2\n",
      "python-snappy                     0.6.1\n",
      "pytoolconfig                      1.2.6\n",
      "pytz                              2023.3.post1\n",
      "pyviz_comms                       3.0.0\n",
      "pywavelets                        1.5.0\n",
      "pywin32                           305.1\n",
      "pywin32-ctypes                    0.2.0\n",
      "pywinpty                          2.0.10\n",
      "PyYAML                            6.0.1\n",
      "pyzmq                             25.1.2\n",
      "QDarkStyle                        3.0.2\n",
      "qstylizer                         0.2.2\n",
      "QtAwesome                         1.2.2\n",
      "qtconsole                         5.4.2\n",
      "QtPy                              2.4.1\n",
      "queuelib                          1.6.2\n",
      "referencing                       0.30.2\n",
      "regex                             2023.10.3\n",
      "requests                          2.31.0\n",
      "requests-file                     1.5.1\n",
      "requests-toolbelt                 1.0.0\n",
      "rfc3339-validator                 0.1.4\n",
      "rfc3986-validator                 0.1.1\n",
      "rich                              13.3.5\n",
      "rope                              1.7.0\n",
      "rpds-py                           0.10.6\n",
      "Rtree                             1.0.1\n",
      "ruamel.yaml                       0.17.21\n",
      "ruamel-yaml-conda                 0.17.21\n",
      "s3fs                              2023.10.0\n",
      "scikit-image                      0.22.0\n",
      "scikit-learn                      1.2.2\n",
      "scipy                             1.11.4\n",
      "Scrapy                            2.8.0\n",
      "seaborn                           0.12.2\n",
      "semver                            2.13.0\n",
      "Send2Trash                        1.8.2\n",
      "service-identity                  18.1.0\n",
      "setuptools                        68.2.2\n",
      "sip                               6.7.12\n",
      "six                               1.16.0\n",
      "smart-open                        5.2.1\n",
      "smmap                             4.0.0\n",
      "sniffio                           1.3.0\n",
      "snowballstemmer                   2.2.0\n",
      "sortedcontainers                  2.4.0\n",
      "soupsieve                         2.5\n",
      "Sphinx                            5.0.2\n",
      "sphinxcontrib-applehelp           1.0.2\n",
      "sphinxcontrib-devhelp             1.0.2\n",
      "sphinxcontrib-htmlhelp            2.0.0\n",
      "sphinxcontrib-jsmath              1.0.1\n",
      "sphinxcontrib-qthelp              1.0.3\n",
      "sphinxcontrib-serializinghtml     1.1.5\n",
      "spyder                            5.4.3\n",
      "spyder-kernels                    2.4.4\n",
      "SQLAlchemy                        2.0.25\n",
      "stack-data                        0.2.0\n",
      "statsmodels                       0.14.0\n",
      "streamlit                         1.30.0\n",
      "sympy                             1.12\n",
      "tables                            3.9.2\n",
      "tabulate                          0.9.0\n",
      "tblib                             1.7.0\n",
      "tenacity                          8.2.2\n",
      "terminado                         0.17.1\n",
      "text-unidecode                    1.3\n",
      "textdistance                      4.2.1\n",
      "threadpoolctl                     2.2.0\n",
      "three-merge                       0.1.1\n",
      "tifffile                          2023.4.12\n",
      "tinycss2                          1.2.1\n",
      "tldextract                        3.2.0\n",
      "toml                              0.10.2\n",
      "tomlkit                           0.11.1\n",
      "toolz                             0.12.0\n",
      "tornado                           6.3.3\n",
      "tqdm                              4.65.0\n",
      "traitlets                         5.7.1\n",
      "truststore                        0.8.0\n",
      "Twisted                           23.10.0\n",
      "twisted-iocpsupport               1.0.2\n",
      "typing_extensions                 4.9.0\n",
      "tzdata                            2023.3\n",
      "tzlocal                           2.1\n",
      "uc-micro-py                       1.0.1\n",
      "ujson                             5.4.0\n",
      "Unidecode                         1.2.0\n",
      "urllib3                           2.0.7\n",
      "validators                        0.18.2\n",
      "w3lib                             2.1.2\n",
      "watchdog                          2.1.6\n",
      "wcwidth                           0.2.5\n",
      "webencodings                      0.5.1\n",
      "websocket-client                  0.58.0\n",
      "Werkzeug                          2.2.3\n",
      "whatthepatch                      1.0.2\n",
      "wheel                             0.41.2\n",
      "widgetsnbextension                3.5.2\n",
      "win-inet-pton                     1.1.0\n",
      "wrapt                             1.14.1\n",
      "xarray                            2023.6.0\n",
      "xlwings                           0.29.1\n",
      "xyzservices                       2022.9.0\n",
      "yapf                              0.31.0\n",
      "yarl                              1.9.3\n",
      "zict                              3.0.0\n",
      "zipp                              3.17.0\n",
      "zope.interface                    5.4.0\n",
      "zstandard                         0.19.0\n"
     ]
    }
   ],
   "source": [
    "!pip list\n"
   ]
  },
  {
   "cell_type": "code",
   "execution_count": 4,
   "id": "8d7e2fff-e192-424a-bf47-e60493344188",
   "metadata": {},
   "outputs": [
    {
     "name": "stdout",
     "output_type": "stream",
     "text": [
      "Requirement already satisfied: pandas in c:\\programdata\\anaconda3\\lib\\site-packages (2.1.4)\n",
      "Requirement already satisfied: numpy<2,>=1.23.2 in c:\\programdata\\anaconda3\\lib\\site-packages (from pandas) (1.26.4)\n",
      "Requirement already satisfied: python-dateutil>=2.8.2 in c:\\programdata\\anaconda3\\lib\\site-packages (from pandas) (2.8.2)\n",
      "Requirement already satisfied: pytz>=2020.1 in c:\\programdata\\anaconda3\\lib\\site-packages (from pandas) (2023.3.post1)\n",
      "Requirement already satisfied: tzdata>=2022.1 in c:\\programdata\\anaconda3\\lib\\site-packages (from pandas) (2023.3)\n",
      "Requirement already satisfied: six>=1.5 in c:\\programdata\\anaconda3\\lib\\site-packages (from python-dateutil>=2.8.2->pandas) (1.16.0)\n"
     ]
    }
   ],
   "source": [
    "!pip install pandas\n"
   ]
  },
  {
   "cell_type": "code",
   "execution_count": 6,
   "id": "c8c73368-d935-4710-947b-2692f115a756",
   "metadata": {},
   "outputs": [
    {
     "name": "stdout",
     "output_type": "stream",
     "text": [
      "\n",
      "Usage:   \n",
      "  pip <command> [options]\n",
      "\n",
      "Commands:\n",
      "  install                     Install packages.\n",
      "  download                    Download packages.\n",
      "  uninstall                   Uninstall packages.\n",
      "  freeze                      Output installed packages in requirements format.\n",
      "  inspect                     Inspect the python environment.\n",
      "  list                        List installed packages.\n",
      "  show                        Show information about installed packages.\n",
      "  check                       Verify installed packages have compatible dependencies.\n",
      "  config                      Manage local and global configuration.\n",
      "  search                      Search PyPI for packages.\n",
      "  cache                       Inspect and manage pip's wheel cache.\n",
      "  index                       Inspect information available from package indexes.\n",
      "  wheel                       Build wheels from your requirements.\n",
      "  hash                        Compute hashes of package archives.\n",
      "  completion                  A helper command used for command completion.\n",
      "  debug                       Show information useful for debugging.\n",
      "  help                        Show help for commands.\n",
      "\n",
      "General Options:\n",
      "  -h, --help                  Show help.\n",
      "  --debug                     Let unhandled exceptions propagate outside the\n",
      "                              main subroutine, instead of logging them to\n",
      "                              stderr.\n",
      "  --isolated                  Run pip in an isolated mode, ignoring\n",
      "                              environment variables and user configuration.\n",
      "  --require-virtualenv        Allow pip to only run in a virtual environment;\n",
      "                              exit with an error otherwise.\n",
      "  --python <python>           Run pip with the specified Python interpreter.\n",
      "  -v, --verbose               Give more output. Option is additive, and can be\n",
      "                              used up to 3 times.\n",
      "  -V, --version               Show version and exit.\n",
      "  -q, --quiet                 Give less output. Option is additive, and can be\n",
      "                              used up to 3 times (corresponding to WARNING,\n",
      "                              ERROR, and CRITICAL logging levels).\n",
      "  --log <path>                Path to a verbose appending log.\n",
      "  --no-input                  Disable prompting for input.\n",
      "  --keyring-provider <keyring_provider>\n",
      "                              Enable the credential lookup via the keyring\n",
      "                              library if user input is allowed. Specify which\n",
      "                              mechanism to use [disabled, import, subprocess].\n",
      "                              (default: disabled)\n",
      "  --proxy <proxy>             Specify a proxy in the form\n",
      "                              scheme://[user:passwd@]proxy.server:port.\n",
      "  --retries <retries>         Maximum number of retries each connection should\n",
      "                              attempt (default 5 times).\n",
      "  --timeout <sec>             Set the socket timeout (default 15 seconds).\n",
      "  --exists-action <action>    Default action when a path already exists:\n",
      "                              (s)witch, (i)gnore, (w)ipe, (b)ackup, (a)bort.\n",
      "  --trusted-host <hostname>   Mark this host or host:port pair as trusted,\n",
      "                              even though it does not have valid or any HTTPS.\n",
      "  --cert <path>               Path to PEM-encoded CA certificate bundle. If\n",
      "                              provided, overrides the default. See 'SSL\n",
      "                              Certificate Verification' in pip documentation\n",
      "                              for more information.\n",
      "  --client-cert <path>        Path to SSL client certificate, a single file\n",
      "                              containing the private key and the certificate\n",
      "                              in PEM format.\n",
      "  --cache-dir <dir>           Store the cache data in <dir>.\n",
      "  --no-cache-dir              Disable the cache.\n",
      "  --disable-pip-version-check\n",
      "                              Don't periodically check PyPI to determine\n",
      "                              whether a new version of pip is available for\n",
      "                              download. Implied with --no-index.\n",
      "  --no-color                  Suppress colored output.\n",
      "  --no-python-version-warning\n",
      "                              Silence deprecation warnings for upcoming\n",
      "                              unsupported Pythons.\n",
      "  --use-feature <feature>     Enable new functionality, that may be backward\n",
      "                              incompatible.\n",
      "  --use-deprecated <feature>  Enable deprecated functionality, that will be\n",
      "                              removed in the future.\n"
     ]
    }
   ],
   "source": [
    "!pip help\n"
   ]
  },
  {
   "cell_type": "code",
   "execution_count": 9,
   "id": "87fcef9d-20a5-4d54-a703-900abda3f78a",
   "metadata": {},
   "outputs": [
    {
     "name": "stdout",
     "output_type": "stream",
     "text": [
      "Name: pandas\n",
      "Version: 2.1.4\n",
      "Summary: Powerful data structures for data analysis, time series, and statistics\n",
      "Home-page: https://pandas.pydata.org\n",
      "Author: \n",
      "Author-email: The Pandas Development Team <pandas-dev@python.org>\n",
      "License: BSD 3-Clause License\n",
      "\n",
      "Copyright (c) 2008-2011, AQR Capital Management, LLC, Lambda Foundry, Inc. and PyData Development Team\n",
      "All rights reserved.\n",
      "\n",
      "Copyright (c) 2011-2023, Open source contributors.\n",
      "\n",
      "Redistribution and use in source and binary forms, with or without\n",
      "modification, are permitted provided that the following conditions are met:\n",
      "\n",
      "* Redistributions of source code must retain the above copyright notice, this\n",
      "  list of conditions and the following disclaimer.\n",
      "\n",
      "* Redistributions in binary form must reproduce the above copyright notice,\n",
      "  this list of conditions and the following disclaimer in the documentation\n",
      "  and/or other materials provided with the distribution.\n",
      "\n",
      "* Neither the name of the copyright holder nor the names of its\n",
      "  contributors may be used to endorse or promote products derived from\n",
      "  this software without specific prior written permission.\n",
      "\n",
      "THIS SOFTWARE IS PROVIDED BY THE COPYRIGHT HOLDERS AND CONTRIBUTORS \"AS IS\"\n",
      "AND ANY EXPRESS OR IMPLIED WARRANTIES, INCLUDING, BUT NOT LIMITED TO, THE\n",
      "IMPLIED WARRANTIES OF MERCHANTABILITY AND FITNESS FOR A PARTICULAR PURPOSE ARE\n",
      "DISCLAIMED. IN NO EVENT SHALL THE COPYRIGHT HOLDER OR CONTRIBUTORS BE LIABLE\n",
      "FOR ANY DIRECT, INDIRECT, INCIDENTAL, SPECIAL, EXEMPLARY, OR CONSEQUENTIAL\n",
      "DAMAGES (INCLUDING, BUT NOT LIMITED TO, PROCUREMENT OF SUBSTITUTE GOODS OR\n",
      "SERVICES; LOSS OF USE, DATA, OR PROFITS; OR BUSINESS INTERRUPTION) HOWEVER\n",
      "CAUSED AND ON ANY THEORY OF LIABILITY, WHETHER IN CONTRACT, STRICT LIABILITY,\n",
      "OR TORT (INCLUDING NEGLIGENCE OR OTHERWISE) ARISING IN ANY WAY OUT OF THE USE\n",
      "OF THIS SOFTWARE, EVEN IF ADVISED OF THE POSSIBILITY OF SUCH DAMAGE.\n",
      "Location: C:\\ProgramData\\anaconda3\\Lib\\site-packages\n",
      "Requires: numpy, python-dateutil, pytz, tzdata\n",
      "Required-by: altair, bokeh, datashader, holoviews, hvplot, panel, seaborn, statsmodels, streamlit, xarray\n"
     ]
    }
   ],
   "source": [
    "!pip show pandas\n"
   ]
  },
  {
   "cell_type": "code",
   "execution_count": 10,
   "id": "3f2a5cae-97c2-451e-b36e-41f5db9b50a8",
   "metadata": {},
   "outputs": [
    {
     "name": "stdout",
     "output_type": "stream",
     "text": [
      "Collecting emoji\n",
      "  Downloading emoji-2.12.1-py3-none-any.whl.metadata (5.4 kB)\n",
      "Requirement already satisfied: typing-extensions>=4.7.0 in c:\\programdata\\anaconda3\\lib\\site-packages (from emoji) (4.9.0)\n",
      "Downloading emoji-2.12.1-py3-none-any.whl (431 kB)\n",
      "   ---------------------------------------- 0.0/431.4 kB ? eta -:--:--\n",
      "   ---------------------------------------- 0.0/431.4 kB ? eta -:--:--\n",
      "    --------------------------------------- 10.2/431.4 kB ? eta -:--:--\n",
      "    --------------------------------------- 10.2/431.4 kB ? eta -:--:--\n",
      "   --- ----------------------------------- 41.0/431.4 kB 279.3 kB/s eta 0:00:02\n",
      "   ------- ------------------------------- 81.9/431.4 kB 416.7 kB/s eta 0:00:01\n",
      "   ---------- --------------------------- 122.9/431.4 kB 554.9 kB/s eta 0:00:01\n",
      "   ------------------ ------------------- 204.8/431.4 kB 731.4 kB/s eta 0:00:01\n",
      "   ------------------ ------------------- 204.8/431.4 kB 731.4 kB/s eta 0:00:01\n",
      "   --------------------- ---------------- 245.8/431.4 kB 654.2 kB/s eta 0:00:01\n",
      "   ---------------------------------------  430.1/431.4 kB 1.0 MB/s eta 0:00:01\n",
      "   -------------------------------------- 431.4/431.4 kB 997.9 kB/s eta 0:00:00\n",
      "Installing collected packages: emoji\n",
      "Successfully installed emoji-2.12.1\n"
     ]
    }
   ],
   "source": [
    "!pip install emoji\n"
   ]
  },
  {
   "cell_type": "code",
   "execution_count": 18,
   "id": "3c95e0e7-d33d-4558-93af-5a42e9fbe6b1",
   "metadata": {},
   "outputs": [
    {
     "name": "stdout",
     "output_type": "stream",
     "text": [
      "👍\n"
     ]
    }
   ],
   "source": [
    "from emoji import emojize\n",
    "\n",
    "print(emojize(\":thumbs_up:\"))\n"
   ]
  },
  {
   "cell_type": "markdown",
   "id": "773e396c-c893-41a8-9c58-a0716a51a441",
   "metadata": {},
   "source": [
    "# prefered installation program\n",
    "\n",
    "# perfermance improvement plane(not)\n"
   ]
  },
  {
   "cell_type": "code",
   "execution_count": 1,
   "id": "c2fcc581-2690-4337-a988-6b6895a8ad26",
   "metadata": {},
   "outputs": [
    {
     "name": "stdout",
     "output_type": "stream",
     "text": [
      "an error occure\n"
     ]
    }
   ],
   "source": [
    "# a=90\n",
    "try:\n",
    "    print(a)\n",
    "except:\n",
    "    print(\"an error occure\")\n"
   ]
  },
  {
   "cell_type": "code",
   "execution_count": 3,
   "id": "643da589-4850-4c84-8c5d-d2d6afdd80bc",
   "metadata": {},
   "outputs": [
    {
     "name": "stdout",
     "output_type": "stream",
     "text": [
      "an error occure error -->> name 'a' is not defined <<-- this is the error\n"
     ]
    }
   ],
   "source": [
    "try:\n",
    "    print(a)\n",
    "except Exception as e:\n",
    "    print(\"an error occure error -->>\", e, \"<<-- this is the error\")\n"
   ]
  },
  {
   "cell_type": "code",
   "execution_count": 5,
   "id": "9844688f-4880-4368-89e1-9206c1baa93e",
   "metadata": {},
   "outputs": [
    {
     "name": "stdout",
     "output_type": "stream",
     "text": [
      "some error occured\n"
     ]
    }
   ],
   "source": [
    "try:\n",
    "    print(hello)\n",
    "except:\n",
    "    print(\"some error occured\")\n",
    "# mostly used\n",
    "else:\n",
    "    print(\"nothing wents wrong\")\n"
   ]
  },
  {
   "cell_type": "code",
   "execution_count": 3,
   "id": "51e754c2-0783-4311-9d56-0642035abb4d",
   "metadata": {},
   "outputs": [
    {
     "name": "stdout",
     "output_type": "stream",
     "text": [
      "hello\n",
      "going on\n"
     ]
    }
   ],
   "source": [
    "try:\n",
    "    print(\"hello\")\n",
    "except:\n",
    "    print(\"some error occured\")\n",
    "finally:\n",
    "    print(\"going on\")\n"
   ]
  },
  {
   "cell_type": "code",
   "execution_count": 1,
   "id": "e38292f7-8d25-479a-8f36-e1a72b22593a",
   "metadata": {},
   "outputs": [
    {
     "ename": "Exception",
     "evalue": "Sorry, no number by zero",
     "output_type": "error",
     "traceback": [
      "\u001b[1;31m---------------------------------------------------------------------------\u001b[0m",
      "\u001b[1;31mException\u001b[0m                                 Traceback (most recent call last)",
      "Cell \u001b[1;32mIn[1], line 3\u001b[0m\n\u001b[0;32m      1\u001b[0m x\u001b[38;5;241m=\u001b[39m\u001b[38;5;241m0\u001b[39m\n\u001b[0;32m      2\u001b[0m \u001b[38;5;28;01mif\u001b[39;00m(x\u001b[38;5;241m==\u001b[39m\u001b[38;5;241m0\u001b[39m):\n\u001b[1;32m----> 3\u001b[0m     \u001b[38;5;28;01mraise\u001b[39;00m \u001b[38;5;167;01mException\u001b[39;00m(\u001b[38;5;124m\"\u001b[39m\u001b[38;5;124mSorry, no number by zero\u001b[39m\u001b[38;5;124m\"\u001b[39m)\n",
      "\u001b[1;31mException\u001b[0m: Sorry, no number by zero"
     ]
    }
   ],
   "source": [
    "x = 0\n",
    "if x == 0:\n",
    "    raise Exception(\"Sorry, no number by zero\")\n"
   ]
  },
  {
   "cell_type": "code",
   "execution_count": 7,
   "id": "a3ec5971-bffe-4ec3-9cce-49a25360dbc2",
   "metadata": {},
   "outputs": [
    {
     "name": "stdout",
     "output_type": "stream",
     "text": [
      "-->> [Errno 2] No such file or directory: 'File.txt' <<-- this is the error [Errno 2] No such file or directory: 'File.txt'\n"
     ]
    }
   ],
   "source": [
    "try:\n",
    "    f = open(\"File.txt\")\n",
    "except Exception as e:\n",
    "    print(\"-->>\", e, \"<<-- this is the error\", e)\n"
   ]
  },
  {
   "cell_type": "code",
   "execution_count": 7,
   "id": "687943ab-6c3d-47c5-a914-f712592e0bf3",
   "metadata": {},
   "outputs": [
    {
     "name": "stdout",
     "output_type": "stream",
     "text": [
      "File content are below -->>\n",
      "\n",
      "\n",
      "hello\n",
      "\n",
      "In Python, except should follow try, and the correct keyword for catching an exception is Exception. Also, ensure that the except block comes immediately after the try block.\n"
     ]
    }
   ],
   "source": [
    "try:\n",
    "    f = open(\"demoFile.txt\", \"r\")\n",
    "    print(\"File content are below -->>\\n\\n\")\n",
    "    print(f.read())\n",
    "except Exception as e:\n",
    "    print(\"-->>\", e, \"<<-- this is the error\", e)\n"
   ]
  },
  {
   "cell_type": "code",
   "execution_count": 15,
   "id": "3d76f87d-c3d9-4195-bb62-0eb03e77e794",
   "metadata": {},
   "outputs": [
    {
     "name": "stdout",
     "output_type": "stream",
     "text": [
      "hello\n",
      "\n",
      "In Python, except should follow try, and th\n"
     ]
    }
   ],
   "source": [
    "try:\n",
    "    f = open(\"demoFile.txt\", \"r\")\n",
    "    print(f.read(50))  # read 50 character from demoFile.txt\n",
    "except:\n",
    "    print(\"-->>\", e, \"<<-- this is the error\", e)\n"
   ]
  },
  {
   "cell_type": "code",
   "execution_count": 30,
   "id": "655f39ed-5365-4a02-849a-a7252bc46864",
   "metadata": {},
   "outputs": [
    {
     "name": "stdout",
     "output_type": "stream",
     "text": [
      "hello correct keyword for catching an exception is Exception. Also, ensure that the except block comes immediately after the try block.\n",
      "\n",
      "hiehfi\n",
      "\n"
     ]
    }
   ],
   "source": [
    "try:\n",
    "    f = open(\"demoFile.txt\", \"r\")\n",
    "    print(f.readline())  # read 50 character from demoFile.txt first line\n",
    "    print(f.readline())  # read 50 character from demoFile.txt second line\n",
    "except:\n",
    "    print(\"-->>\", e, \"<<-- this is the error\", e)\n"
   ]
  },
  {
   "cell_type": "code",
   "execution_count": 31,
   "id": "fbbeb7de-65db-4d9c-8c7c-299ec0302405",
   "metadata": {},
   "outputs": [
    {
     "name": "stdout",
     "output_type": "stream",
     "text": [
      "hello correct keyword for catching an exception is Exception. Also, ensure that the except block comes immediately after the try block.\n",
      "hiehfi\n",
      "In Python, except should follow try, and the correct keyword for catching an exception is Exception. Also, ensure that the except block comes immediately after the try block.\n",
      "uewuf\n"
     ]
    }
   ],
   "source": [
    "f = open(\"demoFile.txt\", \"r\")\n",
    "print(f.read())\n",
    "f.close()\n"
   ]
  },
  {
   "cell_type": "code",
   "execution_count": 2,
   "id": "8554bc5e-56c1-4f8a-94a4-477f6e6314f8",
   "metadata": {},
   "outputs": [
    {
     "data": {
      "text/plain": [
       "35"
      ]
     },
     "execution_count": 2,
     "metadata": {},
     "output_type": "execute_result"
    }
   ],
   "source": [
    "f = open(\"demoFile2.txt\", \"a\")  # append\n",
    "f.write(\"...This is the new inserted text...\")\n",
    "# print(f.read())\n"
   ]
  },
  {
   "cell_type": "code",
   "execution_count": null,
   "id": "4a130ee2-bef8-492a-877c-f53744f74f5c",
   "metadata": {},
   "outputs": [],
   "source": [
    "import os\n"
   ]
  }
 ],
 "metadata": {
  "kernelspec": {
   "display_name": "Python 3 (ipykernel)",
   "language": "python",
   "name": "python3"
  },
  "language_info": {
   "codemirror_mode": {
    "name": "ipython",
    "version": 3
   },
   "file_extension": ".py",
   "mimetype": "text/x-python",
   "name": "python",
   "nbconvert_exporter": "python",
   "pygments_lexer": "ipython3",
   "version": "3.12.4"
  }
 },
 "nbformat": 4,
 "nbformat_minor": 5
}
