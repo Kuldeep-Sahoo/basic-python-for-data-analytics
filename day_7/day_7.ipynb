{
 "cells": [
  {
   "cell_type": "code",
   "execution_count": 2,
   "id": "a7bde813-748a-494f-bb44-38d77986c92f",
   "metadata": {},
   "outputs": [],
   "source": [
    "import numpy as np"
   ]
  },
  {
   "cell_type": "code",
   "execution_count": 4,
   "id": "59487bea-44e6-4101-bca3-d0933c6e46a7",
   "metadata": {},
   "outputs": [
    {
     "name": "stdout",
     "output_type": "stream",
     "text": [
      "[[ 0  1  2  3  4]\n",
      " [ 5  6  7  8  9]\n",
      " [10 11 12 13 14]\n",
      " [15 16 17 18 19]\n",
      " [20 21 22 23 24]]\n",
      "[[ 0  1  2  3  4]\n",
      " [ 5  6  7  8  9]\n",
      " [15 16 17 18 19]]\n"
     ]
    }
   ],
   "source": [
    "arr1=np.arange(25).reshape((5,5))\n",
    "print(arr1)\n",
    "bools=np.array([True,True,False,True,False])\n",
    "# bools=np.array([0,1,2,3,4])\n",
    "print(arr1[bools])"
   ]
  },
  {
   "cell_type": "code",
   "execution_count": 5,
   "id": "fa9a820b-8b89-4295-b144-ac3690809ea2",
   "metadata": {},
   "outputs": [
    {
     "name": "stdout",
     "output_type": "stream",
     "text": [
      "[[10 11 12 13 14]\n",
      " [20 21 22 23 24]]\n"
     ]
    }
   ],
   "source": [
    "print(arr1[~bools])"
   ]
  },
  {
   "cell_type": "code",
   "execution_count": 9,
   "id": "1f98a395-7649-457b-9c94-e4bc9c5519c7",
   "metadata": {},
   "outputs": [
    {
     "data": {
      "text/plain": [
       "array([[0.67921371, 0.37838801, 0.29335819, 0.50512609, 0.50849969,\n",
       "        0.4558759 , 0.23303829, 0.14911049, 0.07389731, 0.32363961],\n",
       "       [0.56291559, 0.9402494 , 0.35383311, 0.98498731, 0.41514306,\n",
       "        0.43536821, 0.16976101, 0.30229409, 0.80233034, 0.87456353],\n",
       "       [0.22664585, 0.86351865, 0.14289459, 0.9587595 , 0.56853639,\n",
       "        0.74169147, 0.03837036, 0.63014419, 0.93185347, 0.66834699],\n",
       "       [0.5064431 , 0.98112377, 0.45868898, 0.13206576, 0.10130555,\n",
       "        0.19601197, 0.53625003, 0.54489687, 0.14360062, 0.50695367],\n",
       "       [0.5083249 , 0.20641883, 0.06827743, 0.19611434, 0.80124408,\n",
       "        0.05359052, 0.06947637, 0.67387715, 0.40018613, 0.14414976],\n",
       "       [0.38070744, 0.20282412, 0.14636376, 0.66079779, 0.50670214,\n",
       "        0.15371116, 0.35360037, 0.45598401, 0.79233378, 0.6125429 ],\n",
       "       [0.37142576, 0.96839726, 0.48086756, 0.54049224, 0.82697186,\n",
       "        0.24629233, 0.72503007, 0.24893353, 0.71644626, 0.95144038],\n",
       "       [0.84615687, 0.5828544 , 0.86807246, 0.73111145, 0.04653133,\n",
       "        0.44283112, 0.51734456, 0.26497093, 0.33949809, 0.36651548],\n",
       "       [0.24268889, 0.17420171, 0.02539972, 0.38621031, 0.45413723,\n",
       "        0.89280551, 0.46269523, 0.63293996, 0.05850607, 0.22658868],\n",
       "       [0.00748454, 0.14132323, 0.53991821, 0.06722496, 0.67652361,\n",
       "        0.13233491, 0.63267185, 0.97871217, 0.30726716, 0.1710752 ]])"
      ]
     },
     "execution_count": 9,
     "metadata": {},
     "output_type": "execute_result"
    }
   ],
   "source": [
    "# fancy \n",
    "arr1=np.random.rand(10,10)\n",
    "arr1"
   ]
  },
  {
   "cell_type": "code",
   "execution_count": 12,
   "id": "13ddd89f-a8dc-4ca0-89c6-6a546bda2f66",
   "metadata": {},
   "outputs": [
    {
     "name": "stdout",
     "output_type": "stream",
     "text": [
      "[0.13206576 0.35383311 0.86351865]\n"
     ]
    }
   ],
   "source": [
    "print(arr1[[3,1,2],[3,2,1]])"
   ]
  },
  {
   "cell_type": "code",
   "execution_count": 7,
   "id": "e8d0886c-7cfa-4b06-9f3f-24c6490f32d0",
   "metadata": {},
   "outputs": [
    {
     "data": {
      "text/plain": [
       "array([[ 0,  1],\n",
       "       [ 2,  3],\n",
       "       [ 4,  5],\n",
       "       [ 6,  7],\n",
       "       [ 8,  9],\n",
       "       [10, 11],\n",
       "       [12, 13],\n",
       "       [14, 15]])"
      ]
     },
     "execution_count": 7,
     "metadata": {},
     "output_type": "execute_result"
    }
   ],
   "source": [
    "arr=np.arange(16).reshape((8,2))\n",
    "arr"
   ]
  },
  {
   "cell_type": "code",
   "execution_count": 28,
   "id": "495e1b22-f6c0-4a1e-a717-f183ef41152a",
   "metadata": {},
   "outputs": [
    {
     "name": "stdout",
     "output_type": "stream",
     "text": [
      "[ 6  7  8  9 10 11 12 13 14 15]\n"
     ]
    }
   ],
   "source": [
    "print(arr[arr>5])"
   ]
  },
  {
   "cell_type": "code",
   "execution_count": 30,
   "id": "bfa2055b-579a-4560-800e-8bc43e38994f",
   "metadata": {},
   "outputs": [
    {
     "name": "stdout",
     "output_type": "stream",
     "text": [
      "[[10 10]\n",
      " [10 10]\n",
      " [10 10]\n",
      " [-1 -1]\n",
      " [-1 -1]\n",
      " [-1 -1]\n",
      " [-1 -1]\n",
      " [-1 -1]]\n"
     ]
    }
   ],
   "source": [
    "print(np.where(arr>5,-1,10))"
   ]
  },
  {
   "cell_type": "code",
   "execution_count": 8,
   "id": "9c752579-4236-45a9-bb28-3e4e82a90fb0",
   "metadata": {},
   "outputs": [
    {
     "name": "stdout",
     "output_type": "stream",
     "text": [
      "[[ 3  3]\n",
      " [ 3  3]\n",
      " [ 3  3]\n",
      " [-2 -2]\n",
      " [-2 -2]\n",
      " [-2 -2]\n",
      " [-2 -2]\n",
      " [-2 -2]]\n"
     ]
    }
   ],
   "source": [
    "print(np.where(arr>5,-2,3))"
   ]
  },
  {
   "cell_type": "code",
   "execution_count": 22,
   "id": "30faa94e-b68e-43a2-bfed-23b92ef740e4",
   "metadata": {
    "scrolled": true
   },
   "outputs": [
    {
     "name": "stdout",
     "output_type": "stream",
     "text": [
      "[[ 0  1  2  3]\n",
      " [ 4  5  6  7]\n",
      " [ 8  9 10 11]\n",
      " [12 13 14 15]]\n",
      "[[10 11 12 13]\n",
      " [14 15 16 17]\n",
      " [18 19 20 21]\n",
      " [22 23 24 25]]\n",
      "[[-10  -9  -8  -7]\n",
      " [ -6  -5  -4  -3]\n",
      " [ -2  -1   0   1]\n",
      " [  2   3   4   5]]\n",
      "[[  0  10  20  30]\n",
      " [ 40  50  60  70]\n",
      " [ 80  90 100 110]\n",
      " [120 130 140 150]]\n",
      "[[0.  0.1 0.2 0.3]\n",
      " [0.4 0.5 0.6 0.7]\n",
      " [0.8 0.9 1.  1.1]\n",
      " [1.2 1.3 1.4 1.5]]\n"
     ]
    }
   ],
   "source": [
    "arr=np.arange(16).reshape((4,4))\n",
    "print(arr)\n",
    "print(arr+10)\n",
    "print(arr-10)\n",
    "print(arr*10)\n",
    "print(arr/10)"
   ]
  },
  {
   "cell_type": "code",
   "execution_count": 20,
   "id": "b1e28541-36fc-49a0-b893-5cb8aaf98942",
   "metadata": {},
   "outputs": [
    {
     "name": "stdout",
     "output_type": "stream",
     "text": [
      "7.5\n"
     ]
    }
   ],
   "source": [
    "print(np.mean(arr))"
   ]
  },
  {
   "cell_type": "code",
   "execution_count": 28,
   "id": "c66b53fd-d421-421b-9acd-02c40f535d11",
   "metadata": {},
   "outputs": [
    {
     "name": "stdout",
     "output_type": "stream",
     "text": [
      "[ 1.5  5.5  9.5 13.5]\n"
     ]
    }
   ],
   "source": [
    "print(np.mean(arr,axis=1))"
   ]
  },
  {
   "cell_type": "code",
   "execution_count": 16,
   "id": "b2a20069-4da7-4713-914e-a3b5ee073ac7",
   "metadata": {},
   "outputs": [
    {
     "name": "stdout",
     "output_type": "stream",
     "text": [
      "7.5\n"
     ]
    }
   ],
   "source": [
    "print(np.median(arr))"
   ]
  },
  {
   "cell_type": "code",
   "execution_count": 25,
   "id": "c6bd5637-2ea6-47dd-acdd-394da53bde11",
   "metadata": {},
   "outputs": [
    {
     "name": "stdout",
     "output_type": "stream",
     "text": [
      "[ 1.5  5.5  9.5 13.5]\n"
     ]
    }
   ],
   "source": [
    "print(np.median(arr,axis=1))"
   ]
  },
  {
   "cell_type": "code",
   "execution_count": 29,
   "id": "073006c7-b0b5-4ad1-86ad-dbf434c10eac",
   "metadata": {},
   "outputs": [
    {
     "name": "stdout",
     "output_type": "stream",
     "text": [
      "[[ 0  1  2  3]\n",
      " [ 4  5  6  7]\n",
      " [ 8  9 10 11]\n",
      " [12 13 14 15]]\n",
      "[4.47213595 4.47213595 4.47213595 4.47213595]\n"
     ]
    }
   ],
   "source": [
    "# standard deviation\n",
    "print(arr)\n",
    "print(np.std(arr,axis=0))"
   ]
  },
  {
   "cell_type": "code",
   "execution_count": 41,
   "id": "7263efb9-675f-428c-8354-1e5e7a61eadb",
   "metadata": {},
   "outputs": [
    {
     "name": "stdout",
     "output_type": "stream",
     "text": [
      "[1.11803399 1.11803399 1.11803399 1.11803399]\n"
     ]
    }
   ],
   "source": [
    "print(np.std(arr,axis=1))"
   ]
  },
  {
   "cell_type": "code",
   "execution_count": 42,
   "id": "464cdb6f-6207-4c42-a1b4-98caddaf7e87",
   "metadata": {},
   "outputs": [
    {
     "name": "stdout",
     "output_type": "stream",
     "text": [
      "21.25\n"
     ]
    }
   ],
   "source": [
    "# variance\n",
    "print(np.var(arr))"
   ]
  },
  {
   "cell_type": "code",
   "execution_count": 44,
   "id": "be063174-25c0-4040-a141-e7df32d15c47",
   "metadata": {},
   "outputs": [
    {
     "name": "stdout",
     "output_type": "stream",
     "text": [
      "[20. 20. 20. 20.]\n"
     ]
    }
   ],
   "source": [
    "print(np.var(arr,axis=0))"
   ]
  },
  {
   "cell_type": "code",
   "execution_count": null,
   "id": "7f022543-920f-4f03-8530-2dce4d62a220",
   "metadata": {},
   "outputs": [],
   "source": [
    "# # visualization of data"
   ]
  },
  {
   "cell_type": "code",
   "execution_count": 30,
   "id": "8bf38e07-f211-41e9-a7fa-c064667534cd",
   "metadata": {},
   "outputs": [
    {
     "data": {
      "image/png": "[encoded data removed]",
      "text/plain": [
       "<Figure size 640x480 with 1 Axes>"
      ]
     },
     "metadata": {},
     "output_type": "display_data"
    }
   ],
   "source": [
    "# mathematical plot\n",
    "from matplotlib import pyplot as plt\n",
    "years=[1950,1968,1970,1980,1998,2000,2010,2011]\n",
    "gdp=[300.2,543.3,1075.9,243.4,2342.6,10234,1444.3,500]\n",
    "plt.plot(years,gdp,linestyle=\"solid\",color=\"green\",marker=\"o\")\n",
    "plt.title(\"nominal GDP\")\n",
    "plt.ylabel(\"Billions of $\")\n",
    "plt.xlabel(\"Years\")\n",
    "plt.show()"
   ]
  },
  {
   "cell_type": "code",
   "execution_count": 62,
   "id": "7194853e-6464-421d-afef-eaf520b3d58a",
   "metadata": {},
   "outputs": [
    {
     "name": "stdout",
     "output_type": "stream",
     "text": [
      "[(0, 'Apple'), (1, 'Banana'), (2, 'Cherry')]\n"
     ]
    }
   ],
   "source": [
    "fruits=[\"Apple\",\"Banana\",\"Cherry\"]\n",
    "enum_fruits=enumerate(fruits)\n",
    "print(list(enum_fruits))"
   ]
  },
  {
   "cell_type": "code",
   "execution_count": 60,
   "id": "20c54e8c-85c2-4478-95bf-a9178de36ff0",
   "metadata": {},
   "outputs": [
    {
     "name": "stdout",
     "output_type": "stream",
     "text": [
      "1\n"
     ]
    }
   ],
   "source": [
    "_,a=1,2\n",
    "print(_)"
   ]
  },
  {
   "cell_type": "code",
   "execution_count": 61,
   "id": "ad13b12f-743c-4b42-af61-47b85abdd07d",
   "metadata": {},
   "outputs": [
    {
     "name": "stdout",
     "output_type": "stream",
     "text": [
      "Hello World\n",
      "Hello World\n",
      "Hello World\n"
     ]
    }
   ],
   "source": [
    "for _ in range(3):\n",
    "    print(\"Hello World\")"
   ]
  },
  {
   "cell_type": "code",
   "execution_count": 38,
   "id": "4fa394ef-c1df-4ca7-8ce3-3e5709a15e89",
   "metadata": {},
   "outputs": [
    {
     "data": {
      "image/png": "[encoded data removed]",
      "text/plain": [
       "<Figure size 640x480 with 1 Axes>"
      ]
     },
     "metadata": {},
     "output_type": "display_data"
    }
   ],
   "source": [
    "from matplotlib import pyplot as plt\n",
    "movies=[\"Anniel Hall\",\"Ben-Hur\",\"Caseblence\",\"Gandhi\",\"West side story\"]\n",
    "oscars=[5,11,3,8,10]\n",
    "xs=[i+0.5 for i,_ in enumerate(movies)]\n",
    "plt.bar(xs,oscars,color=\"red\")\n",
    "plt.ylabel(\"# year of academy awards\")\n",
    "plt.xlabel(\"Movies\")\n",
    "plt.title(\"my favorite movies\")\n",
    "plt.xticks([i+0.5 for i ,_ in enumerate(movies)],movies)\n",
    "plt.show()"
   ]
  },
  {
   "cell_type": "code",
   "execution_count": 109,
   "id": "79f11086-71c8-4fc6-8ebf-29172544c384",
   "metadata": {},
   "outputs": [
    {
     "data": {
      "image/png": "[encoded data removed]",
      "text/plain": [
       "<Figure size 1000x500 with 1 Axes>"
      ]
     },
     "metadata": {},
     "output_type": "display_data"
    }
   ],
   "source": [
    "x=np.linspace(0,10,100)\n",
    "y=x**2*x+3*x\n",
    "fig=plt.figure(figsize=(10,5))\n",
    "plt.plot(x,y)\n",
    "plt.show()"
   ]
  },
  {
   "cell_type": "code",
   "execution_count": null,
   "id": "181b12d3-5639-48b0-84ed-d8c8b7173f42",
   "metadata": {},
   "outputs": [],
   "source": [
    "# zip()"
   ]
  },
  {
   "cell_type": "code",
   "execution_count": 114,
   "id": "f456c378-bc19-4e86-a3ed-7ffa355a89e7",
   "metadata": {},
   "outputs": [
    {
     "name": "stdout",
     "output_type": "stream",
     "text": [
      "[('Bikash', 4), ('Kuldeep', 5), ('Shrikanta', 1), ('Chintu', 2)]\n"
     ]
    }
   ],
   "source": [
    "name=[\"Bikash\",\"Kuldeep\",\"Shrikanta\",\"Chintu\",\"Kanha\"]\n",
    "roll_no=[4,5,1,2]\n",
    "mapped=zip(name,roll_no)\n",
    "print(list(mapped))"
   ]
  },
  {
   "cell_type": "code",
   "execution_count": 121,
   "id": "6b2586d7-11aa-499d-b5b0-46b61a80eed7",
   "metadata": {},
   "outputs": [
    {
     "name": "stdout",
     "output_type": "stream",
     "text": [
      "0 mmmm 20\n",
      "1 ffrf 50\n",
      "2 fefe 10\n"
     ]
    }
   ],
   "source": [
    "names=[\"mmmm\",\"ffrf\",\"fefe\"]\n",
    "ages=[20,50,10]\n",
    "for i, (name,age) in enumerate(zip(names,ages)):\n",
    "    print(i,name,age)"
   ]
  },
  {
   "cell_type": "code",
   "execution_count": 139,
   "id": "d8985a6e-ee0d-416a-aeb7-6f8960bbf0c7",
   "metadata": {},
   "outputs": [
    {
     "data": {
      "image/png": "[encoded data removed]",
      "text/plain": [
       "<Figure size 640x480 with 1 Axes>"
      ]
     },
     "metadata": {},
     "output_type": "display_data"
    }
   ],
   "source": [
    "variance=[1,4,5,16,32,64,128,256]\n",
    "bias_squared=[256,128,64,32,16,8,4,2]\n",
    "total_error=[x+y for x,y in zip(variance,bies_squared)]\n",
    "xs=[i for i,_ in enumerate(variance)]\n",
    "\n",
    "plt.plot(xs,variance,'g-',label='variance')\n",
    "plt.plot(xs,bias_squared,'r-.',label='bias^2')\n",
    "plt.plot(xs,total_error,'b:',label='total error')\n",
    "\n",
    "plt.legend(loc=9)\n",
    "plt.xlabel(\"Model complexity\")\n",
    "plt.title(\"The bias-variance tradeoff\")\n",
    "plt.show()"
   ]
  },
  {
   "cell_type": "code",
   "execution_count": 149,
   "id": "0c31ab56-000f-428a-bd8c-309358ed525a",
   "metadata": {},
   "outputs": [
    {
     "data": {
      "image/png": "[encoded data removed]",
      "text/plain": [
       "<Figure size 640x480 with 1 Axes>"
      ]
     },
     "metadata": {},
     "output_type": "display_data"
    }
   ],
   "source": [
    "friends=[70,65,72,63,71,64,60,64,87]\n",
    "mins=[175,170,205,120,220,130,105,145,190]\n",
    "labels=['a','b','c','d','e','f','g','h','i']\n",
    "plt.scatter(friends,mins)\n",
    "for label,friend_count,mins_count in zip(labels,friends,mins):\n",
    "    plt.annotate(label,\n",
    "                xy=(friend_count,mins_count),\n",
    "                xytext=(5,-5),\n",
    "                textcoords=\"offset points\")\n",
    "plt.title(\"Daily minuts vs no of friends\")\n",
    "plt.xlabel(\"No of friends\")\n",
    "plt.ylabel(\"muns spent in website\")\n",
    "plt.show()"
   ]
  },
  {
   "cell_type": "code",
   "execution_count": 165,
   "id": "4e4e22e0-c1f9-44c4-8bb4-f330bf2818d5",
   "metadata": {},
   "outputs": [
    {
     "data": {
      "text/plain": [
       "[3, 1, 1, 1]"
      ]
     },
     "execution_count": 165,
     "metadata": {},
     "output_type": "execute_result"
    }
   ],
   "source": [
    "def get_row(M,i):\n",
    "    return M[i]\n",
    "def get_col(M,j):\n",
    "    return [M_i[j] for M_i in M]\n",
    "M=np.array([[0,2,1,3],\n",
    "            [3,2,8,1],\n",
    "            [1,0,0,1],\n",
    "            [0,3,2,1]])\n",
    "# get_row(M,2)\n",
    "get_col(M,2)"
   ]
  },
  {
   "cell_type": "code",
   "execution_count": 184,
   "id": "660a10de-f401-4d6b-a07a-1709eea40c72",
   "metadata": {},
   "outputs": [
    {
     "name": "stdout",
     "output_type": "stream",
     "text": [
      "(1, 5)\n",
      "(4, 1)\n"
     ]
    }
   ],
   "source": [
    "vector_row=np.array([[1,-5,3,2,4]])\n",
    "vector_column=np.array([[1],\n",
    "                       [2],\n",
    "                       [3],\n",
    "                       [4]])\n",
    "print(vector_row.shape)\n",
    "print(vector_column.shape)"
   ]
  },
  {
   "cell_type": "code",
   "execution_count": 188,
   "id": "fdc6995e-f8c2-4f49-a124-6801884ffdac",
   "metadata": {},
   "outputs": [
    {
     "name": "stdout",
     "output_type": "stream",
     "text": [
      "[[ 1]\n",
      " [-5]\n",
      " [ 3]\n",
      " [ 2]\n",
      " [ 4]]\n",
      "L_1 is 15\n",
      "L_2 is 7\n",
      "L_inf is 5\n"
     ]
    }
   ],
   "source": [
    "# # vectoe normalization\n",
    "from numpy.linalg import norm\n",
    "new_vector =vector_row.T\n",
    "print(new_vector)\n",
    "norm_1=norm(new_vector,1)\n",
    "norm_2=norm(new_vector,2)\n",
    "norm_inf=norm(new_vector,np.inf)\n",
    "print('L_1 is %.lf'%norm_1)\n",
    "print('L_2 is %.lf'%norm_2)\n",
    "print('L_inf is %.lf'%norm_inf)\n"
   ]
  },
  {
   "cell_type": "code",
   "execution_count": 194,
   "id": "8ba3675d-9283-434a-a9d4-c19b73273741",
   "metadata": {},
   "outputs": [
    {
     "ename": "TypeError",
     "evalue": "'numpy.ndarray' object is not callable",
     "output_type": "error",
     "traceback": [
      "\u001b[1;31m---------------------------------------------------------------------------\u001b[0m",
      "\u001b[1;31mTypeError\u001b[0m                                 Traceback (most recent call last)",
      "Cell \u001b[1;32mIn[194], line 5\u001b[0m\n\u001b[0;32m      3\u001b[0m v\u001b[38;5;241m=\u001b[39mnp\u001b[38;5;241m.\u001b[39marray([[\u001b[38;5;241m10\u001b[39m,\u001b[38;5;241m9\u001b[39m,\u001b[38;5;241m3\u001b[39m]])\n\u001b[0;32m      4\u001b[0m w\u001b[38;5;241m=\u001b[39mnp\u001b[38;5;241m.\u001b[39marray([[\u001b[38;5;241m2\u001b[39m,\u001b[38;5;241m5\u001b[39m,\u001b[38;5;241m12\u001b[39m]])\n\u001b[1;32m----> 5\u001b[0m theta\u001b[38;5;241m=\u001b[39marccos(dot(v,w\u001b[38;5;241m.\u001b[39mT)(norm(v)\u001b[38;5;241m*\u001b[39mnorm(w)))\n\u001b[0;32m      6\u001b[0m \u001b[38;5;28mprint\u001b[39m(theta)\n",
      "\u001b[1;31mTypeError\u001b[0m: 'numpy.ndarray' object is not callable"
     ]
    }
   ],
   "source": [
    "import numpy as np\n",
    "from numpy import arccos,dot\n",
    "v=np.array([[10,9,3]])\n",
    "w=np.array([[2,5,12]])\n",
    "theta=arccos(dot(v,w.T)/norm(v)*norm(w))\n",
    "print(theta)"
   ]
  },
  {
   "cell_type": "code",
   "execution_count": 195,
   "id": "0abf5851-0f23-4d39-b21f-f7a44d6b8cda",
   "metadata": {},
   "outputs": [
    {
     "name": "stdout",
     "output_type": "stream",
     "text": [
      "[[-3  6 -3]]\n"
     ]
    }
   ],
   "source": [
    "v=np.array([[2,3,4]])\n",
    "w=np.array([[5,6,7]])\n",
    "print(np.cross(v,w))"
   ]
  },
  {
   "cell_type": "code",
   "execution_count": 200,
   "id": "db750456-a2b6-45c2-a8bb-26318519de91",
   "metadata": {},
   "outputs": [
    {
     "name": "stdout",
     "output_type": "stream",
     "text": [
      "[[-8 -1  4]]\n"
     ]
    }
   ],
   "source": [
    "v=np.array([[0,3,2]])\n",
    "w=np.array([[4,1,1]])\n",
    "u=np.array([[0,-2,0]])\n",
    "x=3*v-2*w+4*u\n",
    "print(x)"
   ]
  },
  {
   "cell_type": "code",
   "execution_count": 203,
   "id": "7769dffe-9513-4b7c-bd34-43a9f893a278",
   "metadata": {},
   "outputs": [
    {
     "name": "stdout",
     "output_type": "stream",
     "text": [
      "[[1 7]\n",
      " [2 3]\n",
      " [5 0]]\n",
      "[[2 6 3 1]\n",
      " [3 2 3 4]]\n",
      "[[23 20 24 29]\n",
      " [13 18 15 14]\n",
      " [10 30 15  5]]\n"
     ]
    }
   ],
   "source": [
    "P=np.array([[1,7],[2,3],[5,0]])\n",
    "Q=np.array([[2,6,3,1],[3,2,3,4]])\n",
    "print(P)\n",
    "print(Q)\n",
    "print(np.dot(P,Q))\n",
    "# np.dot(Q,P)"
   ]
  },
  {
   "cell_type": "code",
   "execution_count": 204,
   "id": "454fd178-50b3-4680-9e28-b2a7df9f02f6",
   "metadata": {},
   "outputs": [
    {
     "name": "stdout",
     "output_type": "stream",
     "text": [
      "M:\n",
      "\n",
      "determinant : 18\n"
     ]
    }
   ],
   "source": [
    "from numpy.linalg import det\n",
    "M=np.array([[0,2,1,3],\n",
    "           [3,2,0,1],\n",
    "           [1,0,0,3],\n",
    "           [0,3,2,1]])\n",
    "print('M:\\n')\n",
    "print(\"determinant : %.lf\"%det(M))"
   ]
  },
  {
   "cell_type": "code",
   "execution_count": 208,
   "id": "8eded828-9bf1-4a56-9a6a-22168acdd2ab",
   "metadata": {},
   "outputs": [
    {
     "name": "stdout",
     "output_type": "stream",
     "text": [
      "Inverse of matrix is : \n",
      "[[1. 0. 0.]\n",
      " [0. 1. 0.]\n",
      " [0. 0. 1.]]\n"
     ]
    }
   ],
   "source": [
    "A=np.array([[1,0,0],\n",
    "           [0,1,0],\n",
    "           [0,0,1]])\n",
    "print(\"Inverse of matrix is : \")\n",
    "print(np.linalg.inv(A))"
   ]
  },
  {
   "cell_type": "code",
   "execution_count": null,
   "id": "0ce4d87c-9df2-4516-bf35-038e77c66323",
   "metadata": {},
   "outputs": [],
   "source": []
  }
 ],
 "metadata": {
  "kernelspec": {
   "display_name": "Python 3 (ipykernel)",
   "language": "python",
   "name": "python3"
  },
  "language_info": {
   "codemirror_mode": {
    "name": "ipython",
    "version": 3
   },
   "file_extension": ".py",
   "mimetype": "text/x-python",
   "name": "python",
   "nbconvert_exporter": "python",
   "pygments_lexer": "ipython3",
   "version": "3.11.7"
  }
 },
 "nbformat": 4,
 "nbformat_minor": 5
}
