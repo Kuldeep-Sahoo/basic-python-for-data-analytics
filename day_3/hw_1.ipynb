{
 "cells": [
  {
   "cell_type": "markdown",
   "id": "c2084cb1-6185-486b-ae2d-fe23461f9822",
   "metadata": {},
   "source": [
    "\n",
    " 1. Write a Python program to print \"Hello Python\".\n",
    " 2. Write a Python program to do arithmetical operations addition and division.\n",
    " 3. Write a Python program to find the area of a triangle.\n",
    " 4. Write a Python program to swap two variable.\n",
    " 5. Write a Python program to generate a random number."
   ]
  },
  {
   "cell_type": "code",
   "execution_count": 5,
   "id": "1210293c-01ae-497a-a808-c46f87da5084",
   "metadata": {},
   "outputs": [
    {
     "name": "stdout",
     "output_type": "stream",
     "text": [
      "Hello Python\n"
     ]
    }
   ],
   "source": [
    "print(\"Hello Python\")"
   ]
  },
  {
   "cell_type": "code",
   "execution_count": 51,
   "id": "c63cf186-7b87-45a6-bb7b-917ec3aca5c5",
   "metadata": {},
   "outputs": [
    {
     "name": "stdin",
     "output_type": "stream",
     "text": [
      "Enter the first number :  12\n",
      "Enter the second number :  13\n"
     ]
    },
    {
     "name": "stdout",
     "output_type": "stream",
     "text": [
      "sum of two = 25\n",
      "division of two = 0.92\n"
     ]
    }
   ],
   "source": [
    "a=int(input(\"Enter the first number : \"))\n",
    "b=int(input(\"Enter the second number : \"))\n",
    "print(f\"sum of two = {a+b}\")\n",
    "# c=a/b:.2f\n",
    "print(f\"division of two = {a/b:.2f}\")"
   ]
  },
  {
   "cell_type": "code",
   "execution_count": 4,
   "id": "321aba53-cabd-4b02-81cb-9af24baef1fc",
   "metadata": {},
   "outputs": [
    {
     "name": "stdout",
     "output_type": "stream",
     "text": [
      "a=ndkgrki b=fnkerhk\n",
      "a=fnkerhk b=ndkgrki\n"
     ]
    }
   ],
   "source": [
    "a=\"ndkgrki\"\n",
    "b=\"fnkerhk\"\n",
    "print(f\"a={a} b={b}\")\n",
    "temp=a\n",
    "a=b\n",
    "b=temp\n",
    "print(f\"a={a} b={b}\")"
   ]
  },
  {
   "cell_type": "code",
   "execution_count": 6,
   "id": "f55926b6-c438-4923-8d1c-77e9df16e7d3",
   "metadata": {},
   "outputs": [
    {
     "name": "stdin",
     "output_type": "stream",
     "text": [
      "Enter height of the triangle :  12\n",
      "Enter base of the triangle :  44\n"
     ]
    },
    {
     "name": "stdout",
     "output_type": "stream",
     "text": [
      "area of the triangle id 264.0\n"
     ]
    }
   ],
   "source": [
    "h=int(input(\"Enter height of the triangle : \"))\n",
    "b=int(input(\"Enter base of the triangle : \"))\n",
    "area=0.5*h*b\n",
    "print(f\"area of the triangle id {area}\")"
   ]
  },
  {
   "cell_type": "code",
   "execution_count": 30,
   "id": "6844cceb-6df5-45dc-aac3-34a6a4a167ba",
   "metadata": {},
   "outputs": [
    {
     "name": "stdout",
     "output_type": "stream",
     "text": [
      "Generated rando number is 53\n"
     ]
    }
   ],
   "source": [
    "import random\n",
    "a=random.randint(0,101)\n",
    "print(f\"Generated rando number is {a}\")"
   ]
  }
 ],
 "metadata": {
  "kernelspec": {
   "display_name": "Python 3 (ipykernel)",
   "language": "python",
   "name": "python3"
  },
  "language_info": {
   "codemirror_mode": {
    "name": "ipython",
    "version": 3
   },
   "file_extension": ".py",
   "mimetype": "text/x-python",
   "name": "python",
   "nbconvert_exporter": "python",
   "pygments_lexer": "ipython3",
   "version": "3.11.7"
  }
 },
 "nbformat": 4,
 "nbformat_minor": 5
}
