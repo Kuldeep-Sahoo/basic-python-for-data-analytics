{
 "cells": [
  {
   "cell_type": "code",
   "execution_count": 36,
   "metadata": {},
   "outputs": [
    {
     "name": "stdout",
     "output_type": "stream",
     "text": [
      "1 2 3 4 5 6 7 8 9 10 "
     ]
    }
   ],
   "source": [
    "for x in range(1,11):  \n",
    "    print(x,end=\" \")"
   ]
  },
  {
   "cell_type": "markdown",
   "metadata": {},
   "source": [
    "l=list(range(10,1,-1))  # syntax :- range(start, end, step)\n",
    "l1=list(range(20,21))   # syntax :- range(start, end)\n",
    "l2=list(range(12))      # syntax :- range(0 to end-1)\n",
    "print(l)\n",
    "print(l1)\n",
    "print(l2)"
   ]
  },
  {
   "cell_type": "markdown",
   "metadata": {},
   "source": [
    "# # syntax :- for variable in iterables :"
   ]
  },
  {
   "cell_type": "code",
   "execution_count": 37,
   "metadata": {},
   "outputs": [
    {
     "name": "stdout",
     "output_type": "stream",
     "text": [
      "1 2 3 4 5 6 7 "
     ]
    }
   ],
   "source": [
    "for y in range(1,8):\n",
    "    print(y,end=\" \")"
   ]
  },
  {
   "cell_type": "code",
   "execution_count": 38,
   "metadata": {},
   "outputs": [
    {
     "name": "stdout",
     "output_type": "stream",
     "text": [
      "1  - odd\n",
      "2  - even\n",
      "3  - odd\n",
      "4  - even\n",
      "5  - odd\n",
      "6  - even\n",
      "7  - odd\n",
      "8  - even\n",
      "9  - odd\n",
      "10  - even\n"
     ]
    }
   ],
   "source": [
    "for y in range(1,11):\n",
    "    if(y%2==0):\n",
    "        print(y,\" - even\")\n",
    "    else:\n",
    "        print(y,\" - odd\")"
   ]
  },
  {
   "cell_type": "code",
   "execution_count": 39,
   "metadata": {},
   "outputs": [
    {
     "name": "stdout",
     "output_type": "stream",
     "text": [
      "* \n",
      "* * \n",
      "* * * \n",
      "* * * * \n",
      "* * * * * \n",
      "* * * * * * \n"
     ]
    }
   ],
   "source": [
    "row=int(input(\"Enter the row : \"))\n",
    "for r in range(1,row+1):\n",
    "    for c in range(1,r+1):\n",
    "        if(r>=c):\n",
    "            print(\"*\",end=\" \")\n",
    "    print()"
   ]
  },
  {
   "cell_type": "code",
   "execution_count": 40,
   "metadata": {},
   "outputs": [
    {
     "name": "stdout",
     "output_type": "stream",
     "text": [
      "* * * * * * * * * \n",
      "* * * * * * * * \n",
      "* * * * * * * \n",
      "* * * * * * \n",
      "* * * * * \n",
      "* * * * \n",
      "* * * \n",
      "* * \n",
      "* \n"
     ]
    }
   ],
   "source": [
    "row=9\n",
    "for r in range(1,row+1):\n",
    "    for c in range(1,row+1):\n",
    "        if(r<=c):\n",
    "            print(\"*\",end=\" \")\n",
    "    print()"
   ]
  },
  {
   "cell_type": "markdown",
   "metadata": {},
   "source": [
    "# # List, Tuples, Sets, Dictionaries"
   ]
  },
  {
   "cell_type": "code",
   "execution_count": 41,
   "metadata": {},
   "outputs": [
    {
     "name": "stdout",
     "output_type": "stream",
     "text": [
      "['apple', 'banana', 'cherry']\n",
      "[1, 2, 34, 5, 65]\n",
      "[True, False, True]\n"
     ]
    }
   ],
   "source": [
    "list_string = [\"apple\", \"banana\", \"cherry\"]  # square bracket = big bracket\n",
    "list_integer=[1,2,34,5,65]\n",
    "list_boolean=[True,False,True]\n",
    "print(list_string)\n",
    "print(list_integer)\n",
    "print(list_boolean)"
   ]
  },
  {
   "cell_type": "code",
   "execution_count": 42,
   "metadata": {},
   "outputs": [
    {
     "name": "stdout",
     "output_type": "stream",
     "text": [
      "kuldeep\n",
      "['apple', 'banana', 'cherry']\n"
     ]
    }
   ],
   "source": [
    "list_string = [\"apple\", \"banana\", \"cherry\",\"kuldeep\"]  # square bracket = big bracket\n",
    "print(list_string[3])\n",
    "print(list_string[0:3])"
   ]
  },
  {
   "cell_type": "code",
   "execution_count": 43,
   "metadata": {},
   "outputs": [
    {
     "name": "stdout",
     "output_type": "stream",
     "text": [
      "Present\n"
     ]
    }
   ],
   "source": [
    "friends=[\"chintu\",\"shreekant\",\"sambit\",\"pankaj\",\"naru\"]\n",
    "if \"chintu\" in friends:\n",
    "    print(\"Present\")"
   ]
  },
  {
   "cell_type": "code",
   "execution_count": 44,
   "metadata": {},
   "outputs": [
    {
     "name": "stdout",
     "output_type": "stream",
     "text": [
      "['chintu', 'shreekant', 'sambit', 'pankaj', 'naru']\n",
      "['bikash', 'shreekant', 'sambit', 'pankaj', 'naru']\n",
      "['kul', 'sambit', 'pankaj', 'naru']\n"
     ]
    }
   ],
   "source": [
    "friends=[\"chintu\",\"shreekant\",\"sambit\",\"pankaj\",\"naru\"]\n",
    "print(friends)\n",
    "friends[0]=\"bikash\"\n",
    "print(friends)\n",
    "friends[0:2]=[\"kul\"]\n",
    "print(friends)"
   ]
  },
  {
   "cell_type": "code",
   "execution_count": 45,
   "metadata": {},
   "outputs": [
    {
     "name": "stdout",
     "output_type": "stream",
     "text": [
      "[4, 53, 45, 454, 53, 43]\n",
      "[4, 53, '534759834', 45, 454, 53, 43]\n",
      "[4, 53, '534759834', 45, 454, 53, 43, '759834']\n",
      "[53, '534759834', 45, 454, 53, 43, '759834']\n",
      "[53, '534759834', 45, 454, 53, 43]\n",
      "[53, 45, 454, 53, 43]\n",
      "53 45 454 53 43 "
     ]
    }
   ],
   "source": [
    "list=[4,53,45,454,53,43]\n",
    "print(list)\n",
    "# # insert 5 at second position\n",
    "list.insert(2,\"534759834\")\n",
    "print(list)\n",
    "list.append(\"759834\")\n",
    "print(list)\n",
    "list.remove(4)\n",
    "print(list)\n",
    "list.pop()\n",
    "print(list)\n",
    "del list[1]\n",
    "print(list)\n",
    "for x in list:\n",
    "    print(x,end=\" \")\n",
    "\n"
   ]
  },
  {
   "cell_type": "code",
   "execution_count": 46,
   "metadata": {},
   "outputs": [
    {
     "name": "stdout",
     "output_type": "stream",
     "text": [
      "53 0   53\n",
      "1   45\n",
      "2   454\n",
      "3   53\n",
      "4   43\n",
      "45 0   53\n",
      "1   45\n",
      "2   454\n",
      "3   53\n",
      "4   43\n",
      "454 0   53\n",
      "1   45\n",
      "2   454\n",
      "3   53\n",
      "4   43\n",
      "53 0   53\n",
      "1   45\n",
      "2   454\n",
      "3   53\n",
      "4   43\n",
      "43 0   53\n",
      "1   45\n",
      "2   454\n",
      "3   53\n",
      "4   43\n"
     ]
    }
   ],
   "source": [
    "for x in list:\n",
    "        print(x,end=\" \")\n",
    "        for i,x in enumerate(list):\n",
    "         print(i,\" \",x)\n"
   ]
  },
  {
   "cell_type": "code",
   "execution_count": 47,
   "metadata": {},
   "outputs": [
    {
     "name": "stdout",
     "output_type": "stream",
     "text": [
      "0   4\n",
      "1   53\n",
      "2   45\n",
      "3   454\n",
      "4   53\n",
      "5   43\n",
      "---------\n",
      "0   4\n",
      "1   53\n",
      "2   45\n",
      "3   454\n",
      "4   53\n",
      "5   43\n",
      "---------\n"
     ]
    }
   ],
   "source": [
    "list=[4,53,45,454,53,43]\n",
    "for i in range(len(list)):\n",
    "    print(i,\" \",list[i])\n",
    "print(\"---------\")\n",
    "i=0\n",
    "while i<len(list):\n",
    "    print(i,\" \",list[i])\n",
    "    i=i+1\n",
    "print(\"---------\")\n",
    "# for j,x in iterable(0),list:\n",
    "#     print(j)"
   ]
  },
  {
   "cell_type": "code",
   "execution_count": 48,
   "metadata": {},
   "outputs": [
    {
     "name": "stdout",
     "output_type": "stream",
     "text": [
      "(1, 'hello', 3, 4.8, 54, 43)\n"
     ]
    }
   ],
   "source": [
    "tuple=(1,\"hello\",3,4.80,54,43)\n",
    "print(tuple)\n",
    "# tuple.append(123)"
   ]
  },
  {
   "cell_type": "code",
   "execution_count": 49,
   "metadata": {},
   "outputs": [
    {
     "data": {
      "text/plain": [
       "tuple"
      ]
     },
     "execution_count": 49,
     "metadata": {},
     "output_type": "execute_result"
    }
   ],
   "source": [
    "a=5,6,7\n",
    "type(a)"
   ]
  },
  {
   "cell_type": "code",
   "execution_count": 50,
   "metadata": {},
   "outputs": [
    {
     "name": "stdout",
     "output_type": "stream",
     "text": [
      "[23, 23]\n",
      "{12}\n"
     ]
    }
   ],
   "source": [
    "l=[23,23]\n",
    "print(l)\n",
    "s={12,12}\n",
    "print(s)"
   ]
  },
  {
   "cell_type": "code",
   "execution_count": 51,
   "metadata": {},
   "outputs": [
    {
     "name": "stdout",
     "output_type": "stream",
     "text": [
      "6756 5 7 43 12 46 687 79 54 \n",
      "{6756, 5, 7, 43, 12, 46, 687, 79, 54, 27}\n",
      "{6756, 5, 7, 297, 43, 12, 46, 687, 79, 54, 27}\n"
     ]
    }
   ],
   "source": [
    "s={12,12,43,5,46,7,687,79,6756,54}\n",
    "s1={343.3,455}\n",
    "for i in s:\n",
    "    print(i,end=\" \")\n",
    "print()\n",
    "s.add(27)\n",
    "print(s)\n",
    "s.add(297)\n",
    "print(s)"
   ]
  },
  {
   "cell_type": "code",
   "execution_count": 52,
   "metadata": {},
   "outputs": [
    {
     "name": "stdout",
     "output_type": "stream",
     "text": [
      "{666: 'hello', 'fdf': 2.3}\n",
      "666 \t :  hello\n",
      "fdf \t :  2.3\n"
     ]
    }
   ],
   "source": [
    "dict={\n",
    "    666:\"hello\",\n",
    "    \"fdf\":2.3,\n",
    "}\n",
    "print(dict)\n",
    "for i in dict:\n",
    "    print(i,\"\\t : \",dict[i])"
   ]
  },
  {
   "cell_type": "code",
   "execution_count": 53,
   "metadata": {},
   "outputs": [
    {
     "name": "stdout",
     "output_type": "stream",
     "text": [
      "{666: 'hello', 'fdf': 2.3}\n",
      "<class 'dict_keys'>\n"
     ]
    }
   ],
   "source": [
    "dict={\n",
    "    666:\"hello\",\n",
    "    \"fdf\":2.3,\n",
    "}\n",
    "print(dict)\n",
    "x=dict.keys()\n",
    "print(type(x))"
   ]
  },
  {
   "cell_type": "code",
   "execution_count": 54,
   "metadata": {},
   "outputs": [
    {
     "name": "stdout",
     "output_type": "stream",
     "text": [
      "good afternoon\n",
      "Nasta khilayo bhaiya\n"
     ]
    }
   ],
   "source": [
    "def greeting():\n",
    "    print(\"good afternoon\")\n",
    "def pintuBhaiya():\n",
    "    print(\"Nasta khilayo bhaiya\")\n",
    "greeting()\n",
    "pintuBhaiya()"
   ]
  },
  {
   "cell_type": "code",
   "execution_count": 55,
   "metadata": {},
   "outputs": [
    {
     "name": "stdout",
     "output_type": "stream",
     "text": [
      "0 2\n",
      "1 3\n",
      "2 4\n",
      "3 3\n",
      "4 4\n"
     ]
    }
   ],
   "source": [
    "list=[2,3,4,3,4]\n",
    "for i, x in enumerate(list):\n",
    "    print(i, x)\n"
   ]
  },
  {
   "cell_type": "code",
   "execution_count": null,
   "metadata": {},
   "outputs": [],
   "source": []
  },
  {
   "cell_type": "markdown",
   "metadata": {},
   "source": []
  }
 ],
 "metadata": {
  "kernelspec": {
   "display_name": "Python 3 (ipykernel)",
   "language": "python",
   "name": "python3"
  },
  "language_info": {
   "codemirror_mode": {
    "name": "ipython",
    "version": 3
   },
   "file_extension": ".py",
   "mimetype": "text/x-python",
   "name": "python",
   "nbconvert_exporter": "python",
   "pygments_lexer": "ipython3",
   "version": "3.12.4"
  }
 },
 "nbformat": 4,
 "nbformat_minor": 4
}
