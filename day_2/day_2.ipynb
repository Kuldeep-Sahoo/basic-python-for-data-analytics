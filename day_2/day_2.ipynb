{
 "cells": [
  {
   "cell_type": "code",
   "execution_count": 1,
   "metadata": {},
   "outputs": [
    {
     "name": "stdout",
     "output_type": "stream",
     "text": [
      "Hello\n"
     ]
    }
   ],
   "source": [
    "print(\"Hello\")"
   ]
  },
  {
   "cell_type": "code",
   "execution_count": 2,
   "metadata": {},
   "outputs": [
    {
     "name": "stdout",
     "output_type": "stream",
     "text": [
      "Enter your name : kuldeep\n",
      "kuldeep\n"
     ]
    }
   ],
   "source": [
    "a=input(\"Enter your name : \")\n",
    "print(a)"
   ]
  },
  {
   "cell_type": "code",
   "execution_count": 8,
   "metadata": {},
   "outputs": [
    {
     "name": "stdout",
     "output_type": "stream",
     "text": [
      "I am  Kuldeep Sahoo  Age =  19.0  CGPA is  =  8.89  till 4th sem\n",
      "I am Kuldeep Sahoo Age = 19.0 CGPA is  = 8.89 till 4th sem\n"
     ]
    }
   ],
   "source": [
    "a=\"Kuldeep Sahoo\"\n",
    "b=19.0\n",
    "c=8.89\n",
    "print(\"I am \",a,\" Age = \",b,\" CGPA is  = \",c,\" till 4th sem\")\n",
    "print(f\"Formatted output : I am {a} Age = {b} CGPA is  = {c} till 4th sem\")"
   ]
  },
  {
   "cell_type": "code",
   "execution_count": 21,
   "metadata": {},
   "outputs": [
    {
     "name": "stdout",
     "output_type": "stream",
     "text": [
      "Enter first Number : 12\n",
      "Enter first Number : 34\n",
      "a<b\n",
      "12\n"
     ]
    }
   ],
   "source": [
    "a=int(input(\"Enter first Number : \"))\n",
    "b=int(input(\"Enter first Number : \"))\n",
    "if a==b:\n",
    "    print(\"a=b\")\n",
    "elif a>b:\n",
    "    print(\"a>b\")\n",
    "else:\n",
    "    print(\"a<b\")\n",
    "print(a)   "
   ]
  },
  {
   "cell_type": "code",
   "execution_count": 33,
   "metadata": {},
   "outputs": [
    {
     "name": "stdout",
     "output_type": "stream",
     "text": [
      "Enter your age : 23\n",
      "you are adult\n"
     ]
    }
   ],
   "source": [
    "age=int(input(\"Enter your age : \"))\n",
    "if age<=18:\n",
    "    print(\"you are just a child\")\n",
    "elif (age>18 and age<24):\n",
    "    print(\"you are adult\")\n",
    "else:\n",
    "    print(\"you are old\")"
   ]
  },
  {
   "cell_type": "code",
   "execution_count": null,
   "metadata": {},
   "outputs": [
    {
     "name": "stdout",
     "output_type": "stream",
     "text": [
      "------------------------------------------------------------\n",
      "............. Welcome to my suggation center ...............\n",
      "------------------------------------------------------------\n"
     ]
    }
   ],
   "source": [
    "print(\"------------------------------------------------------------\")\n",
    "print(\"............. Welcome to my suggation center ...............\")\n",
    "print(\"------------------------------------------------------------\")\n",
    "wheather=input(\"Enter wheather : \")\n",
    "mode=input(\"Enter ypur mode : \")\n",
    "print(f\"You entered : wheather = {wheather} and mode = {mode}\")\n",
    "wheather=wheather.lower()\n",
    "mode=mode.lower()\n",
    "if(wheather==\"sunny\"):\n",
    "    if mode==\"happy\":\n",
    "        print(\"Suggesion : Lets go for sleep\")\n",
    "    elif(mode == \"sad\"):\n",
    "        print(\"Suggesion : Lets go for sleep\")\n",
    "    elif(mode == \"energetic\"):\n",
    "        print(\"Suggesion : Lets go for sleep\")\n",
    "    else:\n",
    "        print(\"Wrong mode input !!!!!!! Try again!!!!!!!!!!!!\")\n",
    "elif(wheather==\"rainy\"):\n",
    "    if mode==\"happy\":\n",
    "        print(\"Suggesion : Lets go for sleep\")\n",
    "    elif(mode == \"sad\"):\n",
    "        print(\"Suggesion : Lets go for sleep\")\n",
    "    elif(mode == \"energetic\"):\n",
    "        print(\"Suggesion : Lets go for sleep\")\n",
    "    else:\n",
    "        print(\"Wrong mode input !!!!!!! Try again!!!!!!!!!!!!\")\n",
    "elif(wheather==\"snowy\"):\n",
    "    if mode==\"happy\":\n",
    "        print(\"Suggesion : Lets go for sleep\")\n",
    "    elif(mode == \"sad\"):\n",
    "        print(\"Suggesion : Lets go for sleep\")\n",
    "    elif(mode == \"energetic\"):\n",
    "        print(\"Suggesion : Lets go for sleep\")\n",
    "    else:\n",
    "        print(\"Wrong mode input !!!!!!! Try again\")\n",
    "else:\n",
    "    print(\"Wrong whether input !!!!!!! Try again!!!!!!!!!!!!\")"
   ]
  },
  {
   "cell_type": "code",
   "execution_count": 37,
   "metadata": {},
   "outputs": [
    {
     "name": "stdout",
     "output_type": "stream",
     "text": [
      "range(1, 11)\n"
     ]
    }
   ],
   "source": [
    "print(range(1,11))"
   ]
  },
  {
   "cell_type": "code",
   "execution_count": 3,
   "metadata": {},
   "outputs": [
    {
     "name": "stdout",
     "output_type": "stream",
     "text": [
      "1\n",
      "2\n",
      "3\n",
      "4\n",
      "5\n",
      "6\n",
      "7\n",
      "8\n",
      "9\n",
      "10\n"
     ]
    }
   ],
   "source": [
    "i=1\n",
    "# loop is combination of if statement like multiplication is combinaton of addition\n",
    "while i<=10:\n",
    "    print(i)\n",
    "    i=i+1"
   ]
  },
  {
   "cell_type": "code",
   "execution_count": 6,
   "metadata": {},
   "outputs": [
    {
     "name": "stdout",
     "output_type": "stream",
     "text": [
      "enter the  number : 100\n",
      "you entered = 100\n",
      "Program stoppped because you entered 100\n"
     ]
    }
   ],
   "source": [
    "a=0\n",
    "while(a!=100):\n",
    "    a=int(input(\"enter the  number : \"));\n",
    "    print(f\"you entered = {a}\")\n",
    "    if(a==100):\n",
    "        print(\"Program stoppped because you entered 100\")"
   ]
  },
  {
   "cell_type": "code",
   "execution_count": 2,
   "metadata": {},
   "outputs": [
    {
     "name": "stdout",
     "output_type": "stream",
     "text": [
      "------------------------------------------------------------\n",
      "............. Welcome to my suggation center ...............\n",
      "------------------------------------------------------------\n",
      "Enter wheather : Exit\n",
      "Enter ypur mode : jgk\n",
      "You entered : wheather = Exit and mode = jgk\n",
      "Wrong whether input !!!!!!! Try again!!!!!!!!!!!!\n"
     ]
    }
   ],
   "source": [
    "print(\"------------------------------------------------------------\")\n",
    "print(\"............. Welcome to my suggation center ...............\")\n",
    "print(\"------------------------------------------------------------\")\n",
    "wheather=\"\"\n",
    "mode=\"\"\n",
    "while(mode!=\"exit\" and wheather!=\"exit\"):\n",
    "    wheather=input(\"Enter wheather : \")\n",
    "    mode=input(\"Enter ypur mode : \")\n",
    "    print(f\"You entered : wheather = {wheather} and mode = {mode}\")\n",
    "    wheather=wheather.lower()\n",
    "    mode=mode.lower()\n",
    "    if(wheather==\"sunny\"):\n",
    "        if mode==\"happy\":\n",
    "            print(\"Suggesion : Lets go for sleep\")\n",
    "        elif(mode == \"sad\"):\n",
    "            print(\"Suggesion : Lets go for sleep\")\n",
    "        elif(mode == \"energetic\"):\n",
    "            print(\"Suggesion : Lets go for sleep\")\n",
    "        else:\n",
    "            print(\"Wrong mode input !!!!!!! Try again!!!!!!!!!!!!\")\n",
    "    elif(wheather==\"rainy\"):\n",
    "        if mode==\"happy\":\n",
    "            print(\"Suggesion : Lets go for sleep\")\n",
    "        elif(mode == \"sad\"):\n",
    "            print(\"Suggesion : Lets go for sleep\")\n",
    "        elif(mode == \"energetic\"):\n",
    "            print(\"Suggesion : Lets go for sleep\")\n",
    "        else:\n",
    "            print(\"Wrong mode input !!!!!!! Try again!!!!!!!!!!!!\")\n",
    "    elif(wheather==\"snowy\"):\n",
    "        if mode==\"happy\":\n",
    "            print(\"Suggesion : Lets go for sleep\")\n",
    "        elif(mode == \"sad\"):\n",
    "            print(\"Suggesion : Lets go for sleep\")\n",
    "        elif(mode == \"energetic\"):\n",
    "            print(\"Suggesion : Lets go for sleep\")\n",
    "        else:\n",
    "            print(\"Wrong mode input !!!!!!! Try again\")\n",
    "    else:\n",
    "        print(\"Wrong whether input !!!!!!! Try again!!!!!!!!!!!!\")"
   ]
  }
 ],
 "metadata": {
  "kernelspec": {
   "display_name": "Python 3 (ipykernel)",
   "language": "python",
   "name": "python3"
  },
  "language_info": {
   "codemirror_mode": {
    "name": "ipython",
    "version": 3
   },
   "file_extension": ".py",
   "mimetype": "text/x-python",
   "name": "python",
   "nbconvert_exporter": "python",
   "pygments_lexer": "ipython3",
   "version": "3.11.7"
  }
 },
 "nbformat": 4,
 "nbformat_minor": 4
}
