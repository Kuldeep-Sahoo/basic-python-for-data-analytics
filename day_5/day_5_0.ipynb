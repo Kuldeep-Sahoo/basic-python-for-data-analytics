{
 "cells": [
  {
   "cell_type": "markdown",
   "id": "c31a900b-fa24-430d-9fc2-8dc808e8b1ff",
   "metadata": {},
   "source": [
    "# # Object oriented programming\n",
    "# # GUI Programming"
   ]
  },
  {
   "cell_type": "code",
   "execution_count": 5,
   "id": "57fae5a3-1aee-46e2-a9f2-d67e4a9b6850",
   "metadata": {},
   "outputs": [
    {
     "name": "stdout",
     "output_type": "stream",
     "text": [
      "Moooooooooooooooooooooooooooooooooooooooooooooooooooooooooooooooooooooooooooooooooooooooooooooooooooooooooooooooooooooooooooof\n",
      "name: Buddy\n",
      "age: 1\n",
      "1\n",
      "Buddy\n",
      "\n",
      "Jacky\n",
      "3\n"
     ]
    }
   ],
   "source": [
    "class Dog:\n",
    "    def __init__(self,name,age):\n",
    "        self.name=name\n",
    "        self.age=age\n",
    "    def bark(self):\n",
    "        return \"Moooooooooooooooooooooooooooooooooooooooooooooooooooooooooooooooooooooooooooooooooooooooooooooooooooooooooooooooooooooooooooof\"\n",
    "    def get_info(self):\n",
    "        return f\"name: {self.name}\\nage: {self.age}\"\n",
    "my_dog=Dog(\"Buddy\",1)\n",
    "my_dog2=Dog(\"Jacky\",3)\n",
    "print(my_dog.bark())\n",
    "print(my_dog.get_info())\n",
    "print(my_dog.age)\n",
    "print(my_dog.name)\n",
    "print()\n",
    "print(my_dog2.name)\n",
    "print(my_dog2.age)\n"
   ]
  },
  {
   "cell_type": "code",
   "execution_count": 6,
   "id": "105956b3",
   "metadata": {},
   "outputs": [
    {
     "name": "stdout",
     "output_type": "stream",
     "text": [
      "['False', 'None', 'True', 'and', 'as', 'assert', 'async', 'await', 'break', 'class', 'continue', 'def', 'del', 'elif', 'else', 'except', 'finally', 'for', 'from', 'global', 'if', 'import', 'in', 'is', 'lambda', 'nonlocal', 'not', 'or', 'pass', 'raise', 'return', 'try', 'while', 'with', 'yield']\n"
     ]
    }
   ],
   "source": [
    "import keyword\n",
    "print(keyword.kwlist)\n"
   ]
  },
  {
   "cell_type": "code",
   "execution_count": 7,
   "id": "624c84bc-5807-4311-a729-358b74791c68",
   "metadata": {},
   "outputs": [
    {
     "name": "stdout",
     "output_type": "stream",
     "text": [
      "Breed= Golden retriver\n",
      "name: Max\n",
      "age: 1\n",
      "Moooooooooooooooooooooooooooooooooooooooooooooooooooooooooooooooooooooooooooooooooooooooooooooooooooooooooooooooooooooooooooof\n",
      "1\n",
      "Max\n",
      "Golden retriver\n",
      "-------\n",
      " name: Max\n",
      "age: 1\n",
      "breed=Golden retriver\n"
     ]
    }
   ],
   "source": [
    "class Puppy(Dog):\n",
    "    def __init__(self,name,age,breed):\n",
    "        super().__init__(name,age)\n",
    "        self.breed=breed\n",
    "    def get_breed(self):\n",
    "        return f\"Breed= {self.breed}\"\n",
    "    def get_puppy_info(self):\n",
    "        return f\"name: {self.name}\\nage: {self.age}\\nbreed={self.breed}\"\n",
    "my_puppy=Puppy(\"Max\",1,\"Golden retriver\")\n",
    "print(my_puppy.get_breed())\n",
    "print(my_puppy.get_info())\n",
    "print(my_puppy.bark())\n",
    "print(my_puppy.age)\n",
    "print(my_puppy.name)\n",
    "print(my_puppy.breed)\n",
    "print(\"-------\\n\",my_puppy.get_puppy_info())\n",
    "# print(my_dog.get_puppy_info())\n"
   ]
  },
  {
   "cell_type": "code",
   "execution_count": null,
   "id": "bb15dfec",
   "metadata": {},
   "outputs": [],
   "source": []
  },
  {
   "cell_type": "code",
   "execution_count": null,
   "id": "00be5ba0",
   "metadata": {},
   "outputs": [],
   "source": []
  },
  {
   "cell_type": "code",
   "execution_count": null,
   "id": "cdc9ba46",
   "metadata": {},
   "outputs": [],
   "source": []
  }
 ],
 "metadata": {
  "kernelspec": {
   "display_name": "Python 3 (ipykernel)",
   "language": "python",
   "name": "python3"
  },
  "language_info": {
   "codemirror_mode": {
    "name": "ipython",
    "version": 3
   },
   "file_extension": ".py",
   "mimetype": "text/x-python",
   "name": "python",
   "nbconvert_exporter": "python",
   "pygments_lexer": "ipython3",
   "version": "3.12.4"
  }
 },
 "nbformat": 4,
 "nbformat_minor": 5
}
